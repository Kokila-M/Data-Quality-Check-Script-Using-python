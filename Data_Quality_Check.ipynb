{
  "cells": [
    {
      "cell_type": "markdown",
      "metadata": {
        "id": "view-in-github",
        "colab_type": "text"
      },
      "source": [
        "<a href=\"https://colab.research.google.com/github/Kokila-M/Data-Quality-Check-Script-Using-python/blob/main/Data_Quality_Check.ipynb\" target=\"_parent\"><img src=\"https://colab.research.google.com/assets/colab-badge.svg\" alt=\"Open In Colab\"/></a>"
      ]
    },
    {
      "cell_type": "markdown",
      "id": "181ddbd9",
      "metadata": {
        "id": "181ddbd9"
      },
      "source": [
        "# Importing Libraries"
      ]
    },
    {
      "cell_type": "code",
      "source": [
        "from google.colab import drive\n",
        "drive.mount('/content/drive')"
      ],
      "metadata": {
        "id": "5zf6VFQrYjes",
        "colab": {
          "base_uri": "https://localhost:8080/"
        },
        "outputId": "d1120034-c5c1-4012-d317-6113e092a122"
      },
      "id": "5zf6VFQrYjes",
      "execution_count": 1,
      "outputs": [
        {
          "output_type": "stream",
          "name": "stdout",
          "text": [
            "Mounted at /content/drive\n"
          ]
        }
      ]
    },
    {
      "cell_type": "markdown",
      "id": "3c73eff6",
      "metadata": {
        "id": "3c73eff6"
      },
      "source": [
        "**Pandas** for Data Manipulation\n",
        "**Numpy** for numerical Calculations\n",
        "**Matplotlib**and **seaborn** have been used for Data visualization"
      ]
    },
    {
      "cell_type": "code",
      "execution_count": 2,
      "id": "6b3969f0",
      "metadata": {
        "id": "6b3969f0"
      },
      "outputs": [],
      "source": [
        "import numpy as np\n",
        "import pandas as pd\n",
        "import matplotlib.pyplot as plt\n",
        "import seaborn as sns"
      ]
    },
    {
      "cell_type": "code",
      "execution_count": 3,
      "id": "d637a2f1",
      "metadata": {
        "id": "d637a2f1",
        "outputId": "f1742f7c-7aeb-4be0-a576-12717aec1b3f",
        "colab": {
          "base_uri": "https://localhost:8080/"
        }
      },
      "outputs": [
        {
          "output_type": "stream",
          "name": "stdout",
          "text": [
            "         Car Make Car Model  Year Engine Size (L) Horsepower Torque (lb-ft)  \\\n",
            "0         Porsche       911  2022               3        379            331   \n",
            "1     Lamborghini   Huracan  2021             5.2        630            443   \n",
            "2         Ferrari   488 GTB  2022             3.9        661            561   \n",
            "3            Audi        R8  2022             5.2        562            406   \n",
            "4         McLaren      720S  2021               4        710            568   \n",
            "...           ...       ...   ...             ...        ...            ...   \n",
            "1002   Koenigsegg     Jesko  2022               5       1280           1106   \n",
            "1003        Lotus     Evija  2021  Electric Motor       1972           1254   \n",
            "1004      McLaren     Senna  2021               4        789            590   \n",
            "1005       Pagani    Huayra  2021               6        764            738   \n",
            "1006        Rimac    Nevera  2021  Electric Motor       1888           1696   \n",
            "\n",
            "     0-60 MPH Time (seconds) Price (in USD)  \n",
            "0                          4        101,200  \n",
            "1                        2.8        274,390  \n",
            "2                          3        333,750  \n",
            "3                        3.2        142,700  \n",
            "4                        2.7        298,000  \n",
            "...                      ...            ...  \n",
            "1002                     2.5      3,000,000  \n",
            "1003                       2      2,000,000  \n",
            "1004                     2.7      1,000,000  \n",
            "1005                       3      2,600,000  \n",
            "1006                    1.85      2,400,000  \n",
            "\n",
            "[1007 rows x 8 columns]\n"
          ]
        }
      ],
      "source": [
        "#Reading Dataset\n",
        "car = pd.read_csv('/content/drive/MyDrive/datasets/Data Quality/Sport car price.csv')\n",
        "print(car)"
      ]
    },
    {
      "cell_type": "markdown",
      "id": "32497028",
      "metadata": {
        "id": "32497028"
      },
      "source": [
        "**Shape** will display the number of rows and columns in the dataset"
      ]
    },
    {
      "cell_type": "code",
      "execution_count": 4,
      "id": "74869588",
      "metadata": {
        "id": "74869588",
        "outputId": "d16831dd-1a07-49ad-b2f1-1f7d67cb0de1",
        "colab": {
          "base_uri": "https://localhost:8080/"
        }
      },
      "outputs": [
        {
          "output_type": "execute_result",
          "data": {
            "text/plain": [
              "(1007, 8)"
            ]
          },
          "metadata": {},
          "execution_count": 4
        }
      ],
      "source": [
        "car.shape"
      ]
    },
    {
      "cell_type": "markdown",
      "id": "d0837bed",
      "metadata": {
        "id": "d0837bed"
      },
      "source": [
        "There are 1007 tuples and 8 attributes in our dataset."
      ]
    },
    {
      "cell_type": "markdown",
      "id": "689a3ee8",
      "metadata": {
        "id": "689a3ee8"
      },
      "source": [
        "**data.info()**  shows the attribute's Datatype, Missing values in attributes"
      ]
    },
    {
      "cell_type": "code",
      "execution_count": 5,
      "id": "dda09f70",
      "metadata": {
        "id": "dda09f70",
        "outputId": "93ee0859-bb87-4f26-b4cf-a19bcf2731c6",
        "colab": {
          "base_uri": "https://localhost:8080/"
        }
      },
      "outputs": [
        {
          "output_type": "stream",
          "name": "stdout",
          "text": [
            "<class 'pandas.core.frame.DataFrame'>\n",
            "RangeIndex: 1007 entries, 0 to 1006\n",
            "Data columns (total 8 columns):\n",
            " #   Column                   Non-Null Count  Dtype \n",
            "---  ------                   --------------  ----- \n",
            " 0   Car Make                 1007 non-null   object\n",
            " 1   Car Model                1007 non-null   object\n",
            " 2   Year                     1007 non-null   int64 \n",
            " 3   Engine Size (L)          997 non-null    object\n",
            " 4   Horsepower               1007 non-null   object\n",
            " 5   Torque (lb-ft)           1004 non-null   object\n",
            " 6   0-60 MPH Time (seconds)  1007 non-null   object\n",
            " 7   Price (in USD)           1007 non-null   object\n",
            "dtypes: int64(1), object(7)\n",
            "memory usage: 63.1+ KB\n"
          ]
        }
      ],
      "source": [
        "car.info()"
      ]
    },
    {
      "cell_type": "markdown",
      "id": "d47dacfe",
      "metadata": {
        "id": "d47dacfe"
      },
      "source": [
        "1)Numerical Attributes:Year\n",
        "\n",
        "2)Categorical Atrributes: Car Make, Car Model, Engine Size (L), Horsepower, Torque (lb-ft), 0-60 MPH Time (seconds),Price (in USD).\n",
        "\n",
        "3)Engine Size(L), Torque (lb-ft)  attributes have missing value"
      ]
    },
    {
      "cell_type": "markdown",
      "id": "278ec6d9",
      "metadata": {
        "id": "278ec6d9"
      },
      "source": [
        "# Checking for Duplication"
      ]
    },
    {
      "cell_type": "markdown",
      "id": "6828b7ae",
      "metadata": {
        "id": "6828b7ae"
      },
      "source": [
        "**nunique()** returns unique values from each column and  Duplicated data can be handled or removed based on further analysis"
      ]
    },
    {
      "cell_type": "code",
      "execution_count": 6,
      "id": "5d526129",
      "metadata": {
        "id": "5d526129",
        "outputId": "36e897bb-e6c7-480a-ac58-a127751f600e",
        "colab": {
          "base_uri": "https://localhost:8080/",
          "height": 335
        }
      },
      "outputs": [
        {
          "output_type": "execute_result",
          "data": {
            "text/plain": [
              "Car Make                    38\n",
              "Car Model                  176\n",
              "Year                         9\n",
              "Engine Size (L)             45\n",
              "Horsepower                 124\n",
              "Torque (lb-ft)              93\n",
              "0-60 MPH Time (seconds)     43\n",
              "Price (in USD)             367\n",
              "dtype: int64"
            ],
            "text/html": [
              "<div>\n",
              "<style scoped>\n",
              "    .dataframe tbody tr th:only-of-type {\n",
              "        vertical-align: middle;\n",
              "    }\n",
              "\n",
              "    .dataframe tbody tr th {\n",
              "        vertical-align: top;\n",
              "    }\n",
              "\n",
              "    .dataframe thead th {\n",
              "        text-align: right;\n",
              "    }\n",
              "</style>\n",
              "<table border=\"1\" class=\"dataframe\">\n",
              "  <thead>\n",
              "    <tr style=\"text-align: right;\">\n",
              "      <th></th>\n",
              "      <th>0</th>\n",
              "    </tr>\n",
              "  </thead>\n",
              "  <tbody>\n",
              "    <tr>\n",
              "      <th>Car Make</th>\n",
              "      <td>38</td>\n",
              "    </tr>\n",
              "    <tr>\n",
              "      <th>Car Model</th>\n",
              "      <td>176</td>\n",
              "    </tr>\n",
              "    <tr>\n",
              "      <th>Year</th>\n",
              "      <td>9</td>\n",
              "    </tr>\n",
              "    <tr>\n",
              "      <th>Engine Size (L)</th>\n",
              "      <td>45</td>\n",
              "    </tr>\n",
              "    <tr>\n",
              "      <th>Horsepower</th>\n",
              "      <td>124</td>\n",
              "    </tr>\n",
              "    <tr>\n",
              "      <th>Torque (lb-ft)</th>\n",
              "      <td>93</td>\n",
              "    </tr>\n",
              "    <tr>\n",
              "      <th>0-60 MPH Time (seconds)</th>\n",
              "      <td>43</td>\n",
              "    </tr>\n",
              "    <tr>\n",
              "      <th>Price (in USD)</th>\n",
              "      <td>367</td>\n",
              "    </tr>\n",
              "  </tbody>\n",
              "</table>\n",
              "</div><br><label><b>dtype:</b> int64</label>"
            ]
          },
          "metadata": {},
          "execution_count": 6
        }
      ],
      "source": [
        "car.nunique()"
      ]
    },
    {
      "cell_type": "markdown",
      "id": "fc5fa1a9",
      "metadata": {
        "id": "fc5fa1a9"
      },
      "source": [
        "The dataset contains different unique values for each feature, such as 38 car brands, 176 car models, and 367 different car prices. This shows the variety of data for each attribute like engine size, horsepower, and year."
      ]
    },
    {
      "cell_type": "code",
      "execution_count": 7,
      "id": "781a7c3b",
      "metadata": {
        "id": "781a7c3b",
        "outputId": "13bb42e4-7b36-40b4-d117-7e36e69b2077",
        "colab": {
          "base_uri": "https://localhost:8080/"
        }
      },
      "outputs": [
        {
          "output_type": "stream",
          "name": "stdout",
          "text": [
            "0       False\n",
            "1       False\n",
            "2       False\n",
            "3       False\n",
            "4       False\n",
            "        ...  \n",
            "1002    False\n",
            "1003    False\n",
            "1004     True\n",
            "1005    False\n",
            "1006    False\n",
            "Length: 1007, dtype: bool\n"
          ]
        },
        {
          "output_type": "execute_result",
          "data": {
            "text/plain": [
              "288"
            ]
          },
          "metadata": {},
          "execution_count": 7
        }
      ],
      "source": [
        "Duplicated_value = car.duplicated()\n",
        "print(Duplicated_value)\n",
        "Duplicated_value.sum()"
      ]
    },
    {
      "cell_type": "markdown",
      "id": "b1daa223",
      "metadata": {
        "id": "b1daa223"
      },
      "source": [
        "This shows that 288 rows in the dataset are duplicates."
      ]
    },
    {
      "cell_type": "markdown",
      "id": "4d29366b",
      "metadata": {
        "id": "4d29366b"
      },
      "source": [
        "**drop_duplicates()** we can remove duplicate values from dataset"
      ]
    },
    {
      "cell_type": "code",
      "execution_count": 8,
      "id": "a9c59665",
      "metadata": {
        "id": "a9c59665",
        "outputId": "d635146f-0cf4-41ac-ba2f-5e934739dea0",
        "colab": {
          "base_uri": "https://localhost:8080/"
        }
      },
      "outputs": [
        {
          "output_type": "stream",
          "name": "stdout",
          "text": [
            "0       False\n",
            "1       False\n",
            "2       False\n",
            "3       False\n",
            "4       False\n",
            "        ...  \n",
            "999     False\n",
            "1002    False\n",
            "1003    False\n",
            "1005    False\n",
            "1006    False\n",
            "Length: 719, dtype: bool\n"
          ]
        },
        {
          "output_type": "execute_result",
          "data": {
            "text/plain": [
              "0"
            ]
          },
          "metadata": {},
          "execution_count": 8
        }
      ],
      "source": [
        "car.drop_duplicates(inplace=True)\n",
        "Duplicated_value = car.duplicated()\n",
        "print(Duplicated_value)\n",
        "Duplicated_value.sum()\n"
      ]
    },
    {
      "cell_type": "markdown",
      "id": "e5cd4af8",
      "metadata": {
        "id": "e5cd4af8"
      },
      "source": [
        "\n",
        "After removing the duplicates, we cleaned up the dataset by deleting 288 duplicate rows, leaving only unique data."
      ]
    },
    {
      "cell_type": "markdown",
      "id": "2a583541",
      "metadata": {
        "id": "2a583541"
      },
      "source": [
        "# Checking for Missing Values"
      ]
    },
    {
      "cell_type": "markdown",
      "id": "69b97a7d",
      "metadata": {
        "id": "69b97a7d"
      },
      "source": [
        "we can check for missing data in a dataset using the **isnull().sum()** method and  check data contain Null values in dataset\n",
        "\n"
      ]
    },
    {
      "cell_type": "code",
      "execution_count": 9,
      "id": "118ea621",
      "metadata": {
        "id": "118ea621",
        "outputId": "34e727c6-8e2f-4514-a1c0-80b157c6d55d",
        "colab": {
          "base_uri": "https://localhost:8080/",
          "height": 335
        }
      },
      "outputs": [
        {
          "output_type": "execute_result",
          "data": {
            "text/plain": [
              "Car Make                    0\n",
              "Car Model                   0\n",
              "Year                        0\n",
              "Engine Size (L)            10\n",
              "Horsepower                  0\n",
              "Torque (lb-ft)              3\n",
              "0-60 MPH Time (seconds)     0\n",
              "Price (in USD)              0\n",
              "dtype: int64"
            ],
            "text/html": [
              "<div>\n",
              "<style scoped>\n",
              "    .dataframe tbody tr th:only-of-type {\n",
              "        vertical-align: middle;\n",
              "    }\n",
              "\n",
              "    .dataframe tbody tr th {\n",
              "        vertical-align: top;\n",
              "    }\n",
              "\n",
              "    .dataframe thead th {\n",
              "        text-align: right;\n",
              "    }\n",
              "</style>\n",
              "<table border=\"1\" class=\"dataframe\">\n",
              "  <thead>\n",
              "    <tr style=\"text-align: right;\">\n",
              "      <th></th>\n",
              "      <th>0</th>\n",
              "    </tr>\n",
              "  </thead>\n",
              "  <tbody>\n",
              "    <tr>\n",
              "      <th>Car Make</th>\n",
              "      <td>0</td>\n",
              "    </tr>\n",
              "    <tr>\n",
              "      <th>Car Model</th>\n",
              "      <td>0</td>\n",
              "    </tr>\n",
              "    <tr>\n",
              "      <th>Year</th>\n",
              "      <td>0</td>\n",
              "    </tr>\n",
              "    <tr>\n",
              "      <th>Engine Size (L)</th>\n",
              "      <td>10</td>\n",
              "    </tr>\n",
              "    <tr>\n",
              "      <th>Horsepower</th>\n",
              "      <td>0</td>\n",
              "    </tr>\n",
              "    <tr>\n",
              "      <th>Torque (lb-ft)</th>\n",
              "      <td>3</td>\n",
              "    </tr>\n",
              "    <tr>\n",
              "      <th>0-60 MPH Time (seconds)</th>\n",
              "      <td>0</td>\n",
              "    </tr>\n",
              "    <tr>\n",
              "      <th>Price (in USD)</th>\n",
              "      <td>0</td>\n",
              "    </tr>\n",
              "  </tbody>\n",
              "</table>\n",
              "</div><br><label><b>dtype:</b> int64</label>"
            ]
          },
          "metadata": {},
          "execution_count": 9
        }
      ],
      "source": [
        "car.isnull().sum()"
      ]
    },
    {
      "cell_type": "markdown",
      "id": "7209d92e",
      "metadata": {
        "id": "7209d92e"
      },
      "source": [
        " We can see that Engine Size (L) and Torque (lb-ft)   has Missing values"
      ]
    },
    {
      "cell_type": "markdown",
      "id": "543a0c01",
      "metadata": {
        "id": "543a0c01"
      },
      "source": [
        "#Replace with mode values – We can do this in the case of a Categorical feature."
      ]
    },
    {
      "cell_type": "code",
      "execution_count": 10,
      "id": "1835fe2c",
      "metadata": {
        "id": "1835fe2c",
        "outputId": "30cddca9-1fa4-47ed-a0c4-bd7018c1bb9b",
        "colab": {
          "base_uri": "https://localhost:8080/",
          "height": 592
        }
      },
      "outputs": [
        {
          "output_type": "stream",
          "name": "stdout",
          "text": [
            "0      3\n",
            "1    5.2\n",
            "2    3.9\n",
            "3    5.2\n",
            "4      4\n",
            "Name: Engine Size (L), dtype: object\n"
          ]
        },
        {
          "output_type": "stream",
          "name": "stderr",
          "text": [
            "<ipython-input-10-ec37c3f3c7f6>:1: FutureWarning: A value is trying to be set on a copy of a DataFrame or Series through chained assignment using an inplace method.\n",
            "The behavior will change in pandas 3.0. This inplace method will never work because the intermediate object on which we are setting values always behaves as a copy.\n",
            "\n",
            "For example, when doing 'df[col].method(value, inplace=True)', try using 'df.method({col: value}, inplace=True)' or df[col] = df[col].method(value) instead, to perform the operation inplace on the original object.\n",
            "\n",
            "\n",
            "  car['Engine Size (L)'].fillna(car['Engine Size (L)'].mode()[0],inplace=True)\n"
          ]
        },
        {
          "output_type": "execute_result",
          "data": {
            "text/plain": [
              "Car Make                   0\n",
              "Car Model                  0\n",
              "Year                       0\n",
              "Engine Size (L)            0\n",
              "Horsepower                 0\n",
              "Torque (lb-ft)             3\n",
              "0-60 MPH Time (seconds)    0\n",
              "Price (in USD)             0\n",
              "dtype: int64"
            ],
            "text/html": [
              "<div>\n",
              "<style scoped>\n",
              "    .dataframe tbody tr th:only-of-type {\n",
              "        vertical-align: middle;\n",
              "    }\n",
              "\n",
              "    .dataframe tbody tr th {\n",
              "        vertical-align: top;\n",
              "    }\n",
              "\n",
              "    .dataframe thead th {\n",
              "        text-align: right;\n",
              "    }\n",
              "</style>\n",
              "<table border=\"1\" class=\"dataframe\">\n",
              "  <thead>\n",
              "    <tr style=\"text-align: right;\">\n",
              "      <th></th>\n",
              "      <th>0</th>\n",
              "    </tr>\n",
              "  </thead>\n",
              "  <tbody>\n",
              "    <tr>\n",
              "      <th>Car Make</th>\n",
              "      <td>0</td>\n",
              "    </tr>\n",
              "    <tr>\n",
              "      <th>Car Model</th>\n",
              "      <td>0</td>\n",
              "    </tr>\n",
              "    <tr>\n",
              "      <th>Year</th>\n",
              "      <td>0</td>\n",
              "    </tr>\n",
              "    <tr>\n",
              "      <th>Engine Size (L)</th>\n",
              "      <td>0</td>\n",
              "    </tr>\n",
              "    <tr>\n",
              "      <th>Horsepower</th>\n",
              "      <td>0</td>\n",
              "    </tr>\n",
              "    <tr>\n",
              "      <th>Torque (lb-ft)</th>\n",
              "      <td>3</td>\n",
              "    </tr>\n",
              "    <tr>\n",
              "      <th>0-60 MPH Time (seconds)</th>\n",
              "      <td>0</td>\n",
              "    </tr>\n",
              "    <tr>\n",
              "      <th>Price (in USD)</th>\n",
              "      <td>0</td>\n",
              "    </tr>\n",
              "  </tbody>\n",
              "</table>\n",
              "</div><br><label><b>dtype:</b> int64</label>"
            ]
          },
          "metadata": {},
          "execution_count": 10
        }
      ],
      "source": [
        "car['Engine Size (L)'].fillna(car['Engine Size (L)'].mode()[0],inplace=True)\n",
        "print(car['Engine Size (L)'].head(5))\n",
        "car.isnull().sum()"
      ]
    },
    {
      "cell_type": "code",
      "execution_count": 11,
      "id": "a888c93c",
      "metadata": {
        "id": "a888c93c",
        "outputId": "30d52d9b-ee56-4e35-b537-f1d156566395",
        "colab": {
          "base_uri": "https://localhost:8080/",
          "height": 592
        }
      },
      "outputs": [
        {
          "output_type": "stream",
          "name": "stdout",
          "text": [
            "0    331\n",
            "1    443\n",
            "2    561\n",
            "3    406\n",
            "4    568\n",
            "Name: Torque (lb-ft), dtype: object\n"
          ]
        },
        {
          "output_type": "stream",
          "name": "stderr",
          "text": [
            "<ipython-input-11-1c24434708b8>:1: FutureWarning: A value is trying to be set on a copy of a DataFrame or Series through chained assignment using an inplace method.\n",
            "The behavior will change in pandas 3.0. This inplace method will never work because the intermediate object on which we are setting values always behaves as a copy.\n",
            "\n",
            "For example, when doing 'df[col].method(value, inplace=True)', try using 'df.method({col: value}, inplace=True)' or df[col] = df[col].method(value) instead, to perform the operation inplace on the original object.\n",
            "\n",
            "\n",
            "  car['Torque (lb-ft)'].fillna(car['Torque (lb-ft)'].mode()[0],inplace=True)\n"
          ]
        },
        {
          "output_type": "execute_result",
          "data": {
            "text/plain": [
              "Car Make                   0\n",
              "Car Model                  0\n",
              "Year                       0\n",
              "Engine Size (L)            0\n",
              "Horsepower                 0\n",
              "Torque (lb-ft)             0\n",
              "0-60 MPH Time (seconds)    0\n",
              "Price (in USD)             0\n",
              "dtype: int64"
            ],
            "text/html": [
              "<div>\n",
              "<style scoped>\n",
              "    .dataframe tbody tr th:only-of-type {\n",
              "        vertical-align: middle;\n",
              "    }\n",
              "\n",
              "    .dataframe tbody tr th {\n",
              "        vertical-align: top;\n",
              "    }\n",
              "\n",
              "    .dataframe thead th {\n",
              "        text-align: right;\n",
              "    }\n",
              "</style>\n",
              "<table border=\"1\" class=\"dataframe\">\n",
              "  <thead>\n",
              "    <tr style=\"text-align: right;\">\n",
              "      <th></th>\n",
              "      <th>0</th>\n",
              "    </tr>\n",
              "  </thead>\n",
              "  <tbody>\n",
              "    <tr>\n",
              "      <th>Car Make</th>\n",
              "      <td>0</td>\n",
              "    </tr>\n",
              "    <tr>\n",
              "      <th>Car Model</th>\n",
              "      <td>0</td>\n",
              "    </tr>\n",
              "    <tr>\n",
              "      <th>Year</th>\n",
              "      <td>0</td>\n",
              "    </tr>\n",
              "    <tr>\n",
              "      <th>Engine Size (L)</th>\n",
              "      <td>0</td>\n",
              "    </tr>\n",
              "    <tr>\n",
              "      <th>Horsepower</th>\n",
              "      <td>0</td>\n",
              "    </tr>\n",
              "    <tr>\n",
              "      <th>Torque (lb-ft)</th>\n",
              "      <td>0</td>\n",
              "    </tr>\n",
              "    <tr>\n",
              "      <th>0-60 MPH Time (seconds)</th>\n",
              "      <td>0</td>\n",
              "    </tr>\n",
              "    <tr>\n",
              "      <th>Price (in USD)</th>\n",
              "      <td>0</td>\n",
              "    </tr>\n",
              "  </tbody>\n",
              "</table>\n",
              "</div><br><label><b>dtype:</b> int64</label>"
            ]
          },
          "metadata": {},
          "execution_count": 11
        }
      ],
      "source": [
        "car['Torque (lb-ft)'].fillna(car['Torque (lb-ft)'].mode()[0],inplace=True)\n",
        "print(car['Torque (lb-ft)'].head(5))\n",
        "car.isnull().sum()"
      ]
    },
    {
      "cell_type": "markdown",
      "id": "6a33cef6",
      "metadata": {
        "id": "6a33cef6"
      },
      "source": [
        "**describe()** method shows the basic statistical characteristics of numercial attributes(float63, int64):Mean, Median,Mode, Count, Standard deviation,0.25,0.50,0.75 quartiles."
      ]
    },
    {
      "cell_type": "code",
      "execution_count": 12,
      "id": "d82c4296",
      "metadata": {
        "id": "d82c4296",
        "outputId": "c951de5b-0ff0-4266-c67a-9025751ed1c4",
        "colab": {
          "base_uri": "https://localhost:8080/",
          "height": 300
        }
      },
      "outputs": [
        {
          "output_type": "execute_result",
          "data": {
            "text/plain": [
              "              Year\n",
              "count   719.000000\n",
              "mean   2021.159944\n",
              "std       2.329598\n",
              "min    1965.000000\n",
              "25%    2021.000000\n",
              "50%    2021.000000\n",
              "75%    2022.000000\n",
              "max    2023.000000"
            ],
            "text/html": [
              "\n",
              "  <div id=\"df-01335dd6-9697-434a-af0b-c9c090fd8096\" class=\"colab-df-container\">\n",
              "    <div>\n",
              "<style scoped>\n",
              "    .dataframe tbody tr th:only-of-type {\n",
              "        vertical-align: middle;\n",
              "    }\n",
              "\n",
              "    .dataframe tbody tr th {\n",
              "        vertical-align: top;\n",
              "    }\n",
              "\n",
              "    .dataframe thead th {\n",
              "        text-align: right;\n",
              "    }\n",
              "</style>\n",
              "<table border=\"1\" class=\"dataframe\">\n",
              "  <thead>\n",
              "    <tr style=\"text-align: right;\">\n",
              "      <th></th>\n",
              "      <th>Year</th>\n",
              "    </tr>\n",
              "  </thead>\n",
              "  <tbody>\n",
              "    <tr>\n",
              "      <th>count</th>\n",
              "      <td>719.000000</td>\n",
              "    </tr>\n",
              "    <tr>\n",
              "      <th>mean</th>\n",
              "      <td>2021.159944</td>\n",
              "    </tr>\n",
              "    <tr>\n",
              "      <th>std</th>\n",
              "      <td>2.329598</td>\n",
              "    </tr>\n",
              "    <tr>\n",
              "      <th>min</th>\n",
              "      <td>1965.000000</td>\n",
              "    </tr>\n",
              "    <tr>\n",
              "      <th>25%</th>\n",
              "      <td>2021.000000</td>\n",
              "    </tr>\n",
              "    <tr>\n",
              "      <th>50%</th>\n",
              "      <td>2021.000000</td>\n",
              "    </tr>\n",
              "    <tr>\n",
              "      <th>75%</th>\n",
              "      <td>2022.000000</td>\n",
              "    </tr>\n",
              "    <tr>\n",
              "      <th>max</th>\n",
              "      <td>2023.000000</td>\n",
              "    </tr>\n",
              "  </tbody>\n",
              "</table>\n",
              "</div>\n",
              "    <div class=\"colab-df-buttons\">\n",
              "\n",
              "  <div class=\"colab-df-container\">\n",
              "    <button class=\"colab-df-convert\" onclick=\"convertToInteractive('df-01335dd6-9697-434a-af0b-c9c090fd8096')\"\n",
              "            title=\"Convert this dataframe to an interactive table.\"\n",
              "            style=\"display:none;\">\n",
              "\n",
              "  <svg xmlns=\"http://www.w3.org/2000/svg\" height=\"24px\" viewBox=\"0 -960 960 960\">\n",
              "    <path d=\"M120-120v-720h720v720H120Zm60-500h600v-160H180v160Zm220 220h160v-160H400v160Zm0 220h160v-160H400v160ZM180-400h160v-160H180v160Zm440 0h160v-160H620v160ZM180-180h160v-160H180v160Zm440 0h160v-160H620v160Z\"/>\n",
              "  </svg>\n",
              "    </button>\n",
              "\n",
              "  <style>\n",
              "    .colab-df-container {\n",
              "      display:flex;\n",
              "      gap: 12px;\n",
              "    }\n",
              "\n",
              "    .colab-df-convert {\n",
              "      background-color: #E8F0FE;\n",
              "      border: none;\n",
              "      border-radius: 50%;\n",
              "      cursor: pointer;\n",
              "      display: none;\n",
              "      fill: #1967D2;\n",
              "      height: 32px;\n",
              "      padding: 0 0 0 0;\n",
              "      width: 32px;\n",
              "    }\n",
              "\n",
              "    .colab-df-convert:hover {\n",
              "      background-color: #E2EBFA;\n",
              "      box-shadow: 0px 1px 2px rgba(60, 64, 67, 0.3), 0px 1px 3px 1px rgba(60, 64, 67, 0.15);\n",
              "      fill: #174EA6;\n",
              "    }\n",
              "\n",
              "    .colab-df-buttons div {\n",
              "      margin-bottom: 4px;\n",
              "    }\n",
              "\n",
              "    [theme=dark] .colab-df-convert {\n",
              "      background-color: #3B4455;\n",
              "      fill: #D2E3FC;\n",
              "    }\n",
              "\n",
              "    [theme=dark] .colab-df-convert:hover {\n",
              "      background-color: #434B5C;\n",
              "      box-shadow: 0px 1px 3px 1px rgba(0, 0, 0, 0.15);\n",
              "      filter: drop-shadow(0px 1px 2px rgba(0, 0, 0, 0.3));\n",
              "      fill: #FFFFFF;\n",
              "    }\n",
              "  </style>\n",
              "\n",
              "    <script>\n",
              "      const buttonEl =\n",
              "        document.querySelector('#df-01335dd6-9697-434a-af0b-c9c090fd8096 button.colab-df-convert');\n",
              "      buttonEl.style.display =\n",
              "        google.colab.kernel.accessAllowed ? 'block' : 'none';\n",
              "\n",
              "      async function convertToInteractive(key) {\n",
              "        const element = document.querySelector('#df-01335dd6-9697-434a-af0b-c9c090fd8096');\n",
              "        const dataTable =\n",
              "          await google.colab.kernel.invokeFunction('convertToInteractive',\n",
              "                                                    [key], {});\n",
              "        if (!dataTable) return;\n",
              "\n",
              "        const docLinkHtml = 'Like what you see? Visit the ' +\n",
              "          '<a target=\"_blank\" href=https://colab.research.google.com/notebooks/data_table.ipynb>data table notebook</a>'\n",
              "          + ' to learn more about interactive tables.';\n",
              "        element.innerHTML = '';\n",
              "        dataTable['output_type'] = 'display_data';\n",
              "        await google.colab.output.renderOutput(dataTable, element);\n",
              "        const docLink = document.createElement('div');\n",
              "        docLink.innerHTML = docLinkHtml;\n",
              "        element.appendChild(docLink);\n",
              "      }\n",
              "    </script>\n",
              "  </div>\n",
              "\n",
              "\n",
              "<div id=\"df-945f4729-b2d7-4651-be41-7209a55152af\">\n",
              "  <button class=\"colab-df-quickchart\" onclick=\"quickchart('df-945f4729-b2d7-4651-be41-7209a55152af')\"\n",
              "            title=\"Suggest charts\"\n",
              "            style=\"display:none;\">\n",
              "\n",
              "<svg xmlns=\"http://www.w3.org/2000/svg\" height=\"24px\"viewBox=\"0 0 24 24\"\n",
              "     width=\"24px\">\n",
              "    <g>\n",
              "        <path d=\"M19 3H5c-1.1 0-2 .9-2 2v14c0 1.1.9 2 2 2h14c1.1 0 2-.9 2-2V5c0-1.1-.9-2-2-2zM9 17H7v-7h2v7zm4 0h-2V7h2v10zm4 0h-2v-4h2v4z\"/>\n",
              "    </g>\n",
              "</svg>\n",
              "  </button>\n",
              "\n",
              "<style>\n",
              "  .colab-df-quickchart {\n",
              "      --bg-color: #E8F0FE;\n",
              "      --fill-color: #1967D2;\n",
              "      --hover-bg-color: #E2EBFA;\n",
              "      --hover-fill-color: #174EA6;\n",
              "      --disabled-fill-color: #AAA;\n",
              "      --disabled-bg-color: #DDD;\n",
              "  }\n",
              "\n",
              "  [theme=dark] .colab-df-quickchart {\n",
              "      --bg-color: #3B4455;\n",
              "      --fill-color: #D2E3FC;\n",
              "      --hover-bg-color: #434B5C;\n",
              "      --hover-fill-color: #FFFFFF;\n",
              "      --disabled-bg-color: #3B4455;\n",
              "      --disabled-fill-color: #666;\n",
              "  }\n",
              "\n",
              "  .colab-df-quickchart {\n",
              "    background-color: var(--bg-color);\n",
              "    border: none;\n",
              "    border-radius: 50%;\n",
              "    cursor: pointer;\n",
              "    display: none;\n",
              "    fill: var(--fill-color);\n",
              "    height: 32px;\n",
              "    padding: 0;\n",
              "    width: 32px;\n",
              "  }\n",
              "\n",
              "  .colab-df-quickchart:hover {\n",
              "    background-color: var(--hover-bg-color);\n",
              "    box-shadow: 0 1px 2px rgba(60, 64, 67, 0.3), 0 1px 3px 1px rgba(60, 64, 67, 0.15);\n",
              "    fill: var(--button-hover-fill-color);\n",
              "  }\n",
              "\n",
              "  .colab-df-quickchart-complete:disabled,\n",
              "  .colab-df-quickchart-complete:disabled:hover {\n",
              "    background-color: var(--disabled-bg-color);\n",
              "    fill: var(--disabled-fill-color);\n",
              "    box-shadow: none;\n",
              "  }\n",
              "\n",
              "  .colab-df-spinner {\n",
              "    border: 2px solid var(--fill-color);\n",
              "    border-color: transparent;\n",
              "    border-bottom-color: var(--fill-color);\n",
              "    animation:\n",
              "      spin 1s steps(1) infinite;\n",
              "  }\n",
              "\n",
              "  @keyframes spin {\n",
              "    0% {\n",
              "      border-color: transparent;\n",
              "      border-bottom-color: var(--fill-color);\n",
              "      border-left-color: var(--fill-color);\n",
              "    }\n",
              "    20% {\n",
              "      border-color: transparent;\n",
              "      border-left-color: var(--fill-color);\n",
              "      border-top-color: var(--fill-color);\n",
              "    }\n",
              "    30% {\n",
              "      border-color: transparent;\n",
              "      border-left-color: var(--fill-color);\n",
              "      border-top-color: var(--fill-color);\n",
              "      border-right-color: var(--fill-color);\n",
              "    }\n",
              "    40% {\n",
              "      border-color: transparent;\n",
              "      border-right-color: var(--fill-color);\n",
              "      border-top-color: var(--fill-color);\n",
              "    }\n",
              "    60% {\n",
              "      border-color: transparent;\n",
              "      border-right-color: var(--fill-color);\n",
              "    }\n",
              "    80% {\n",
              "      border-color: transparent;\n",
              "      border-right-color: var(--fill-color);\n",
              "      border-bottom-color: var(--fill-color);\n",
              "    }\n",
              "    90% {\n",
              "      border-color: transparent;\n",
              "      border-bottom-color: var(--fill-color);\n",
              "    }\n",
              "  }\n",
              "</style>\n",
              "\n",
              "  <script>\n",
              "    async function quickchart(key) {\n",
              "      const quickchartButtonEl =\n",
              "        document.querySelector('#' + key + ' button');\n",
              "      quickchartButtonEl.disabled = true;  // To prevent multiple clicks.\n",
              "      quickchartButtonEl.classList.add('colab-df-spinner');\n",
              "      try {\n",
              "        const charts = await google.colab.kernel.invokeFunction(\n",
              "            'suggestCharts', [key], {});\n",
              "      } catch (error) {\n",
              "        console.error('Error during call to suggestCharts:', error);\n",
              "      }\n",
              "      quickchartButtonEl.classList.remove('colab-df-spinner');\n",
              "      quickchartButtonEl.classList.add('colab-df-quickchart-complete');\n",
              "    }\n",
              "    (() => {\n",
              "      let quickchartButtonEl =\n",
              "        document.querySelector('#df-945f4729-b2d7-4651-be41-7209a55152af button');\n",
              "      quickchartButtonEl.style.display =\n",
              "        google.colab.kernel.accessAllowed ? 'block' : 'none';\n",
              "    })();\n",
              "  </script>\n",
              "</div>\n",
              "\n",
              "    </div>\n",
              "  </div>\n"
            ],
            "application/vnd.google.colaboratory.intrinsic+json": {
              "type": "dataframe",
              "summary": "{\n  \"name\": \"car\",\n  \"rows\": 8,\n  \"fields\": [\n    {\n      \"column\": \"Year\",\n      \"properties\": {\n        \"dtype\": \"number\",\n        \"std\": 788.3802214893072,\n        \"min\": 2.329598336442776,\n        \"max\": 2023.0,\n        \"num_unique_values\": 7,\n        \"samples\": [\n          719.0,\n          2021.1599443671766,\n          2022.0\n        ],\n        \"semantic_type\": \"\",\n        \"description\": \"\"\n      }\n    }\n  ]\n}"
            }
          },
          "metadata": {},
          "execution_count": 12
        }
      ],
      "source": [
        "car.describe()"
      ]
    },
    {
      "cell_type": "markdown",
      "id": "ad4ef14c",
      "metadata": {
        "id": "ad4ef14c"
      },
      "source": [
        "**Renaming columns** in a dataset is to make their names more meaningful and easier to understand."
      ]
    },
    {
      "cell_type": "code",
      "execution_count": 13,
      "id": "713392c9",
      "metadata": {
        "id": "713392c9",
        "outputId": "46521b48-f329-4010-8006-0a389d6f88d9",
        "colab": {
          "base_uri": "https://localhost:8080/"
        }
      },
      "outputs": [
        {
          "output_type": "stream",
          "name": "stdout",
          "text": [
            "         Car Name Car Model  Year     Engine Size Horsepower Torque   MPH  \\\n",
            "0         Porsche       911  2022               3        379    331     4   \n",
            "1     Lamborghini   Huracan  2021             5.2        630    443   2.8   \n",
            "2         Ferrari   488 GTB  2022             3.9        661    561     3   \n",
            "3            Audi        R8  2022             5.2        562    406   3.2   \n",
            "4         McLaren      720S  2021               4        710    568   2.7   \n",
            "...           ...       ...   ...             ...        ...    ...   ...   \n",
            "999        Nissan      370Z  2021             3.7        332    270   5.1   \n",
            "1002   Koenigsegg     Jesko  2022               5       1280   1106   2.5   \n",
            "1003        Lotus     Evija  2021  Electric Motor       1972   1254     2   \n",
            "1005       Pagani    Huayra  2021               6        764    738     3   \n",
            "1006        Rimac    Nevera  2021  Electric Motor       1888   1696  1.85   \n",
            "\n",
            "          Price  \n",
            "0       101,200  \n",
            "1       274,390  \n",
            "2       333,750  \n",
            "3       142,700  \n",
            "4       298,000  \n",
            "...         ...  \n",
            "999      30,090  \n",
            "1002  3,000,000  \n",
            "1003  2,000,000  \n",
            "1005  2,600,000  \n",
            "1006  2,400,000  \n",
            "\n",
            "[719 rows x 8 columns]\n"
          ]
        }
      ],
      "source": [
        "# Renaming for columns\n",
        "car = car.rename(columns={'Engine Size (L)': 'Engine Size','Torque (lb-ft)':'Torque','0-60 MPH Time (seconds)':'MPH','Car Make':'Car Name','Price (in USD)': 'Price' })\n",
        "print(car)"
      ]
    },
    {
      "cell_type": "markdown",
      "id": "8d0eb862",
      "metadata": {
        "id": "8d0eb862"
      },
      "source": [
        "The column names were changed as follows: 'Engine Size (L)' to 'Engine Size', 'Torque (lb-ft)' to 'Torque', '0-60 MPH Time (seconds)' to 'MPH', 'Car Make' to 'Car Name', and 'Price (in USD)' to 'Price'."
      ]
    },
    {
      "cell_type": "markdown",
      "id": "7bebd230",
      "metadata": {
        "id": "7bebd230"
      },
      "source": [
        "Wanted to convert specific columns in our dataset to the nearest integer"
      ]
    },
    {
      "cell_type": "code",
      "execution_count": 14,
      "id": "d81d4d6f",
      "metadata": {
        "id": "d81d4d6f",
        "outputId": "b40443c7-5f61-468c-9736-04c2de1f96c5",
        "colab": {
          "base_uri": "https://localhost:8080/"
        }
      },
      "outputs": [
        {
          "output_type": "stream",
          "name": "stdout",
          "text": [
            "         Car Name Car Model  Year     Engine Size Horsepower Torque   MPH  \\\n",
            "0         Porsche       911  2022               3        379    331     4   \n",
            "1     Lamborghini   Huracan  2021             5.2        630    443   2.8   \n",
            "2         Ferrari   488 GTB  2022             3.9        661    561     3   \n",
            "3            Audi        R8  2022             5.2        562    406   3.2   \n",
            "4         McLaren      720S  2021               4        710    568   2.7   \n",
            "...           ...       ...   ...             ...        ...    ...   ...   \n",
            "999        Nissan      370Z  2021             3.7        332    270   5.1   \n",
            "1002   Koenigsegg     Jesko  2022               5       1280   1106   2.5   \n",
            "1003        Lotus     Evija  2021  Electric Motor       1972   1254     2   \n",
            "1005       Pagani    Huayra  2021               6        764    738     3   \n",
            "1006        Rimac    Nevera  2021  Electric Motor       1888   1696  1.85   \n",
            "\n",
            "          Price  \n",
            "0       101,200  \n",
            "1       274,390  \n",
            "2       333,750  \n",
            "3       142,700  \n",
            "4       298,000  \n",
            "...         ...  \n",
            "999      30,090  \n",
            "1002  3,000,000  \n",
            "1003  2,000,000  \n",
            "1005  2,600,000  \n",
            "1006  2,400,000  \n",
            "\n",
            "[719 rows x 8 columns]\n",
            "  Engine Size Horsepower Torque    Price  MPH\n",
            "0           3        379    331  101,200    4\n",
            "1         5.2        630    443  274,390  2.8\n",
            "2         3.9        661    561  333,750    3\n",
            "3         5.2        562    406  142,700  3.2\n",
            "4           4        710    568  298,000  2.7\n"
          ]
        }
      ],
      "source": [
        "car_df= pd.DataFrame(car)\n",
        "columns_to_convert = ['Engine Size', 'Horsepower', 'Torque', 'Price', 'MPH']\n",
        "#car[columns_to_convert] = car[columns_to_convert].apply(lambda x: x.round().astype(int))\n",
        "print(car_df)\n",
        "print(car[columns_to_convert].head())"
      ]
    },
    {
      "cell_type": "code",
      "execution_count": 15,
      "id": "ff5e8602",
      "metadata": {
        "id": "ff5e8602",
        "outputId": "b88ae3ab-ce42-44c1-d380-1385a3578d94",
        "colab": {
          "base_uri": "https://localhost:8080/"
        }
      },
      "outputs": [
        {
          "output_type": "stream",
          "name": "stdout",
          "text": [
            "  Engine Size Horsepower Torque    Price  MPH\n",
            "0           3        379    331  101,200    4\n",
            "1         5.2        630    443  274,390  2.8\n",
            "2         3.9        661    561  333,750    3\n",
            "3         5.2        562    406  142,700  3.2\n",
            "4           4        710    568  298,000  2.7\n"
          ]
        }
      ],
      "source": [
        "#Columns to be converted for nearest int\n",
        "print(car[columns_to_convert].head())"
      ]
    },
    {
      "cell_type": "code",
      "execution_count": 16,
      "id": "8387d64f",
      "metadata": {
        "id": "8387d64f",
        "outputId": "ba539e28-1f5c-4fec-ad64-0b329666f202",
        "colab": {
          "base_uri": "https://localhost:8080/"
        }
      },
      "outputs": [
        {
          "output_type": "stream",
          "name": "stdout",
          "text": [
            "         Car Name Car Model  Year     Engine Size Horsepower Torque   MPH  \\\n",
            "0         Porsche       911  2022               3        379    331     4   \n",
            "1     Lamborghini   Huracan  2021             5.2        630    443   2.8   \n",
            "2         Ferrari   488 GTB  2022             3.9        661    561     3   \n",
            "3            Audi        R8  2022             5.2        562    406   3.2   \n",
            "4         McLaren      720S  2021               4        710    568   2.7   \n",
            "...           ...       ...   ...             ...        ...    ...   ...   \n",
            "999        Nissan      370Z  2021             3.7        332    270   5.1   \n",
            "1002   Koenigsegg     Jesko  2022               5       1280   1106   2.5   \n",
            "1003        Lotus     Evija  2021  Electric Motor       1972   1254     2   \n",
            "1005       Pagani    Huayra  2021               6        764    738     3   \n",
            "1006        Rimac    Nevera  2021  Electric Motor       1888   1696  1.85   \n",
            "\n",
            "          Price  \n",
            "0       101,200  \n",
            "1       274,390  \n",
            "2       333,750  \n",
            "3       142,700  \n",
            "4       298,000  \n",
            "...         ...  \n",
            "999      30,090  \n",
            "1002  3,000,000  \n",
            "1003  2,000,000  \n",
            "1005  2,600,000  \n",
            "1006  2,400,000  \n",
            "\n",
            "[719 rows x 8 columns]\n"
          ]
        },
        {
          "output_type": "stream",
          "name": "stderr",
          "text": [
            "<ipython-input-16-dbab600aeace>:2: FutureWarning: DataFrame.applymap has been deprecated. Use DataFrame.map instead.\n",
            "  print(car[~car[columns_to_convert].applymap(lambda x: isinstance(x, (int, float))).all(axis=1)])\n"
          ]
        }
      ],
      "source": [
        "#Converting columns to nearest float or int datatype to do further analysis\n",
        "print(car[~car[columns_to_convert].applymap(lambda x: isinstance(x, (int, float))).all(axis=1)])"
      ]
    },
    {
      "cell_type": "code",
      "execution_count": 17,
      "id": "c8ed76f5",
      "metadata": {
        "id": "c8ed76f5",
        "outputId": "140d1cef-1002-464a-898d-730619d3b3e1",
        "colab": {
          "base_uri": "https://localhost:8080/"
        }
      },
      "outputs": [
        {
          "output_type": "stream",
          "name": "stdout",
          "text": [
            "         Car Name Car Model  Year     Engine Size Horsepower Torque   MPH  \\\n",
            "0         Porsche       911  2022               3        379    331     4   \n",
            "1     Lamborghini   Huracan  2021             5.2        630    443   2.8   \n",
            "2         Ferrari   488 GTB  2022             3.9        661    561     3   \n",
            "3            Audi        R8  2022             5.2        562    406   3.2   \n",
            "4         McLaren      720S  2021               4        710    568   2.7   \n",
            "...           ...       ...   ...             ...        ...    ...   ...   \n",
            "999        Nissan      370Z  2021             3.7        332    270   5.1   \n",
            "1002   Koenigsegg     Jesko  2022               5       1280   1106   2.5   \n",
            "1003        Lotus     Evija  2021  Electric Motor       1972   1254     2   \n",
            "1005       Pagani    Huayra  2021               6        764    738     3   \n",
            "1006        Rimac    Nevera  2021  Electric Motor       1888   1696  1.85   \n",
            "\n",
            "          Price  \n",
            "0       101,200  \n",
            "1       274,390  \n",
            "2       333,750  \n",
            "3       142,700  \n",
            "4       298,000  \n",
            "...         ...  \n",
            "999      30,090  \n",
            "1002  3,000,000  \n",
            "1003  2,000,000  \n",
            "1005  2,600,000  \n",
            "1006  2,400,000  \n",
            "\n",
            "[719 rows x 8 columns]\n"
          ]
        },
        {
          "output_type": "stream",
          "name": "stderr",
          "text": [
            "<ipython-input-17-ebbff4252b78>:1: FutureWarning: DataFrame.applymap has been deprecated. Use DataFrame.map instead.\n",
            "  print(car[~car[columns_to_convert].applymap(lambda x: isinstance(x, (int, float))).all(axis=1)])\n"
          ]
        }
      ],
      "source": [
        "print(car[~car[columns_to_convert].applymap(lambda x: isinstance(x, (int, float))).all(axis=1)])"
      ]
    },
    {
      "cell_type": "code",
      "execution_count": 18,
      "id": "be164e23",
      "metadata": {
        "id": "be164e23",
        "outputId": "07fc5e19-4958-43ed-b99a-aeb72ae0e6e2",
        "colab": {
          "base_uri": "https://localhost:8080/"
        }
      },
      "outputs": [
        {
          "output_type": "stream",
          "name": "stdout",
          "text": [
            "Index(['Car Name', 'Car Model', 'Year', 'Engine Size', 'Horsepower', 'Torque',\n",
            "       'MPH', 'Price'],\n",
            "      dtype='object')\n"
          ]
        }
      ],
      "source": [
        "#Attributes in our dataset\n",
        "print(car.columns)\n"
      ]
    },
    {
      "cell_type": "code",
      "execution_count": 19,
      "id": "c2b0b59f",
      "metadata": {
        "scrolled": false,
        "id": "c2b0b59f",
        "outputId": "f4a2e616-f3bb-411f-94a0-7cf3f7221a52",
        "colab": {
          "base_uri": "https://localhost:8080/"
        }
      },
      "outputs": [
        {
          "output_type": "stream",
          "name": "stdout",
          "text": [
            "0    101200.0\n",
            "1    274390.0\n",
            "2    333750.0\n",
            "3    142700.0\n",
            "4    298000.0\n",
            "Name: Price, dtype: float64\n"
          ]
        }
      ],
      "source": [
        "# Remove commas from the 'Price' column and convert to integers\n",
        "car['Price'] = car['Price'].str.replace(',', '').astype(float)\n",
        "print(car['Price'].head())\n"
      ]
    },
    {
      "cell_type": "code",
      "execution_count": 20,
      "id": "24a613fe",
      "metadata": {
        "id": "24a613fe",
        "outputId": "5dcfc3f3-8b59-4346-f4a3-06e85e34a867",
        "colab": {
          "base_uri": "https://localhost:8080/"
        }
      },
      "outputs": [
        {
          "output_type": "stream",
          "name": "stdout",
          "text": [
            "      Car Name Car Model  Year Engine Size Horsepower Torque  MPH     Price\n",
            "0      Porsche       911  2022           3        379    331    4  101200.0\n",
            "1  Lamborghini   Huracan  2021         5.2        630    443  2.8  274390.0\n",
            "2      Ferrari   488 GTB  2022         3.9        661    561    3  333750.0\n",
            "3         Audi        R8  2022         5.2        562    406  3.2  142700.0\n",
            "4      McLaren      720S  2021           4        710    568  2.7  298000.0\n"
          ]
        }
      ],
      "source": [
        "print(car.head())  # Print the first few rows to inspect the data\n"
      ]
    },
    {
      "cell_type": "code",
      "execution_count": 21,
      "id": "40de6fe4",
      "metadata": {
        "id": "40de6fe4",
        "outputId": "d85da6a6-23d6-4bf3-8085-f43f66a4ece0",
        "colab": {
          "base_uri": "https://localhost:8080/",
          "height": 592
        }
      },
      "outputs": [
        {
          "output_type": "display_data",
          "data": {
            "text/plain": [
              "<Figure size 1200x600 with 1 Axes>"
            ],
            "image/png": "[encoded data removed]"
          },
          "metadata": {}
        }
      ],
      "source": [
        "top_5_torque = car['Torque'].value_counts().head(5).index\n",
        "\n",
        "# Filter the dataset for top 5 Torque values\n",
        "filtered_car = car[car['Torque'].isin(top_5_torque)]\n",
        "\n",
        "# Plot\n",
        "plt.figure(figsize=(12, 6))\n",
        "sns.countplot(data=filtered_car, x='Torque', order=top_5_torque)\n",
        "\n",
        "# Add labels and title with custom font sizes\n",
        "plt.title('Top 5 Torque Counts', fontsize=16)\n",
        "plt.xlabel('Torque', fontsize=14)\n",
        "plt.ylabel('Count', fontsize=14)\n",
        "\n",
        "# Adjust x-axis label rotation for better readability (if needed)\n",
        "plt.xticks(rotation=45, fontsize=12)\n",
        "plt.yticks(fontsize=12)\n",
        "\n",
        "plt.show()"
      ]
    },
    {
      "cell_type": "markdown",
      "id": "86ded4d9",
      "metadata": {
        "id": "86ded4d9"
      },
      "source": [
        "The top cars generally have high torque values, often exceeding 600 Nm (approximately 443 lb-ft). This indicates powerful performance and quick acceleration."
      ]
    },
    {
      "cell_type": "code",
      "execution_count": 22,
      "id": "83f02921",
      "metadata": {
        "id": "83f02921",
        "outputId": "b12f4289-9389-4678-bcd8-a6a9853df8f8",
        "colab": {
          "base_uri": "https://localhost:8080/",
          "height": 430
        }
      },
      "outputs": [
        {
          "output_type": "display_data",
          "data": {
            "text/plain": [
              "<Figure size 640x480 with 1 Axes>"
            ],
            "image/png": "[encoded data removed]"
          },
          "metadata": {}
        }
      ],
      "source": [
        "car.boxplot(column=['Year'])\n",
        "plt.show()\n"
      ]
    },
    {
      "cell_type": "markdown",
      "id": "83f7a6e6",
      "metadata": {
        "id": "83f7a6e6"
      },
      "source": [
        " We can observe from the below of the boxplot that has one outlier its **Shelby Car Cobra model** from the year of  1965"
      ]
    },
    {
      "cell_type": "code",
      "execution_count": 23,
      "id": "f520a348",
      "metadata": {
        "id": "f520a348",
        "outputId": "94a0d1cb-6ae1-4967-8cb1-c938236e12b3",
        "colab": {
          "base_uri": "https://localhost:8080/"
        }
      },
      "outputs": [
        {
          "output_type": "stream",
          "name": "stdout",
          "text": [
            "          Car Name             Car Model  Year Engine Size Horsepower Torque  \\\n",
            "33   Mercedes-Benz               SLS AMG  2015         6.2        622    468   \n",
            "43   Mercedes-Benz             CLS63 AMG  2019           4        603    627   \n",
            "94   Mercedes-Benz               SLS AMG  2015         6.2        622    468   \n",
            "159          Dodge                 Viper  2017         8.4        645    600   \n",
            "170         Shelby                 Cobra  1965           7        435    440   \n",
            "174       W Motors      Lykan Hypersport  2015         3.7        780    708   \n",
            "181  Mercedes-Benz               SLS AMG  2015         6.2        622    468   \n",
            "273  Mercedes-Benz  SLS AMG Black Series  2014         6.2        622    468   \n",
            "369          Dodge                 Viper  2017         8.4        645    600   \n",
            "405          Dodge             Viper ACR  2017         8.4        645    600   \n",
            "464  Mercedes-Benz               SLS AMG  2015         6.2        622    468   \n",
            "473       Maserati           GranTurismo  2019         4.7        454    384   \n",
            "587  Mercedes-Benz               SLS AMG  2015         6.2        583    479   \n",
            "614  Mercedes-Benz               SLS AMG  2015         6.2        622    468   \n",
            "625        McLaren                 Senna  2019           4        789    590   \n",
            "688        Porsche            918 Spyder  2015         4.6        887    944   \n",
            "739  Mercedes-Benz               SLS AMG  2015         6.2        622    468   \n",
            "776  Mercedes-Benz               SLS AMG  2015         6.2        622    468   \n",
            "\n",
            "     MPH      Price  \n",
            "33   3.2   222000.0  \n",
            "43   3.4   132000.0  \n",
            "94   3.7   221580.0  \n",
            "159  3.3   120000.0  \n",
            "170  4.2  1000000.0  \n",
            "174  2.8  3400000.0  \n",
            "181  3.6   228000.0  \n",
            "273  3.5   275000.0  \n",
            "369  3.3   118795.0  \n",
            "405  3.3   126190.0  \n",
            "464  3.6   229000.0  \n",
            "473  4.7   150980.0  \n",
            "587  3.6   221580.0  \n",
            "614  3.5   228000.0  \n",
            "625  2.7  1050000.0  \n",
            "688  2.2  1800000.0  \n",
            "739  3.5   222500.0  \n",
            "776  3.6   200000.0  \n"
          ]
        }
      ],
      "source": [
        "outliers = car[car['Year'] < car['Year'].quantile(0.25) - 1.5 * (car['Year'].quantile(0.75) - car['Year'].quantile(0.25))]\n",
        "print(outliers)\n",
        "\n"
      ]
    },
    {
      "cell_type": "code",
      "execution_count": 24,
      "id": "3613e7df",
      "metadata": {
        "id": "3613e7df",
        "outputId": "196b42a3-4a05-4da9-a85d-a1685ff960ed",
        "colab": {
          "base_uri": "https://localhost:8080/"
        }
      },
      "outputs": [
        {
          "output_type": "stream",
          "name": "stdout",
          "text": [
            "    Car Name Car Model  Year Engine Size Horsepower Torque  MPH      Price\n",
            "170   Shelby     Cobra  1965           7        435    440  4.2  1000000.0\n"
          ]
        }
      ],
      "source": [
        "car_dk= car[car['Year'] <= 1970]\n",
        "print(car_dk)"
      ]
    },
    {
      "cell_type": "code",
      "execution_count": 25,
      "id": "ad0ebd8a",
      "metadata": {
        "id": "ad0ebd8a",
        "outputId": "2fff30f2-ff87-4b02-8ca0-4d2298d93e9e",
        "colab": {
          "base_uri": "https://localhost:8080/"
        }
      },
      "outputs": [
        {
          "output_type": "stream",
          "name": "stdout",
          "text": [
            "         Car Name      Car Model  Year     Engine Size Horsepower Torque  \\\n",
            "11        Bugatti         Chiron  2021               8       1500   1180   \n",
            "14     Koenigsegg          Jesko  2021               5       1280   1015   \n",
            "24         Pagani         Huayra  2021               6        720    737   \n",
            "26          Rimac         Nevera  2022        Electric       1914   1696   \n",
            "28    Lamborghini  Aventador SVJ  2021             6.5        759    531   \n",
            "...           ...            ...   ...             ...        ...    ...   \n",
            "988   Pininfarina       Battista  2021        Electric       1872   1696   \n",
            "1002   Koenigsegg          Jesko  2022               5       1280   1106   \n",
            "1003        Lotus          Evija  2021  Electric Motor       1972   1254   \n",
            "1005       Pagani         Huayra  2021               6        764    738   \n",
            "1006        Rimac         Nevera  2021  Electric Motor       1888   1696   \n",
            "\n",
            "       MPH      Price  \n",
            "11     2.4  3000000.0  \n",
            "14     2.5  2800000.0  \n",
            "24     2.8  2800000.0  \n",
            "26    1.85  2400000.0  \n",
            "28     2.8   517770.0  \n",
            "...    ...        ...  \n",
            "988    1.9  2500000.0  \n",
            "1002   2.5  3000000.0  \n",
            "1003     2  2000000.0  \n",
            "1005     3  2600000.0  \n",
            "1006  1.85  2400000.0  \n",
            "\n",
            "[94 rows x 8 columns]\n"
          ]
        }
      ],
      "source": [
        "outliers = car[car['Price'] > car['Price'].quantile(0.75) + 1.5 * (car['Price'].quantile(0.75) - car['Price'].quantile(0.25))]\n",
        "print(outliers)\n"
      ]
    },
    {
      "cell_type": "code",
      "execution_count": 26,
      "id": "f04e9c2f",
      "metadata": {
        "id": "f04e9c2f",
        "outputId": "e928ee04-87ab-44c6-a0d9-8e49a88563ac",
        "colab": {
          "base_uri": "https://localhost:8080/"
        }
      },
      "outputs": [
        {
          "output_type": "stream",
          "name": "stdout",
          "text": [
            "         Car Name Car Model  Year     Engine Size Horsepower Torque   MPH  \\\n",
            "0         Porsche       911  2022               3        379    331     4   \n",
            "1     Lamborghini   Huracan  2021             5.2        630    443   2.8   \n",
            "2         Ferrari   488 GTB  2022             3.9        661    561     3   \n",
            "3            Audi        R8  2022             5.2        562    406   3.2   \n",
            "4         McLaren      720S  2021               4        710    568   2.7   \n",
            "...           ...       ...   ...             ...        ...    ...   ...   \n",
            "998          Ford   Mustang  2021             2.3        310    350   5.3   \n",
            "999        Nissan      370Z  2021             3.7        332    270   5.1   \n",
            "1003        Lotus     Evija  2021  Electric Motor       1972   1254     2   \n",
            "1005       Pagani    Huayra  2021               6        764    738     3   \n",
            "1006        Rimac    Nevera  2021  Electric Motor       1888   1696  1.85   \n",
            "\n",
            "          Price  \n",
            "0      101200.0  \n",
            "1      274390.0  \n",
            "2      333750.0  \n",
            "3      142700.0  \n",
            "4      298000.0  \n",
            "...         ...  \n",
            "998     27205.0  \n",
            "999     30090.0  \n",
            "1003  2000000.0  \n",
            "1005  2600000.0  \n",
            "1006  2400000.0  \n",
            "\n",
            "[698 rows x 8 columns]\n"
          ]
        }
      ],
      "source": [
        "car_df= car[car['Price'] <  3000000.0 ]  # Define an appropriate upper limit\n",
        "print(car_df)"
      ]
    },
    {
      "cell_type": "code",
      "execution_count": 27,
      "id": "b0a32915",
      "metadata": {
        "scrolled": true,
        "id": "b0a32915",
        "outputId": "2586725b-3cef-4c36-bb5c-ae872670681b",
        "colab": {
          "base_uri": "https://localhost:8080/",
          "height": 590
        }
      },
      "outputs": [
        {
          "output_type": "display_data",
          "data": {
            "text/plain": [
              "<Figure size 1000x600 with 1 Axes>"
            ],
            "image/png": "[encoded data removed]"
          },
          "metadata": {}
        }
      ],
      "source": [
        "plt.figure(figsize=(10, 6))\n",
        "sns.boxplot(data=car, x='Year', y='Price')\n",
        "\n",
        "plt.title('Car Prices by Year', fontsize=14)\n",
        "plt.xlabel('Year', fontsize=12)\n",
        "plt.ylabel('Price', fontsize=12)\n",
        "\n",
        "plt.xticks(rotation=45)\n",
        "plt.show()"
      ]
    },
    {
      "cell_type": "markdown",
      "id": "425c8817",
      "metadata": {
        "id": "425c8817"
      },
      "source": [
        "1)Almost every year has multiple outliers, representing cars priced much higher than the general distribution for that year. These could be luxury or special edition cars.\n",
        "\n",
        "2)The dataset might include a mix of regular and premium cars for all years, leading to the observed outliers.\n",
        "\n",
        "3)Most boxes are concentrated near the bottom, indicating lower-priced cars are more common."
      ]
    },
    {
      "cell_type": "code",
      "execution_count": 28,
      "id": "554f1a91",
      "metadata": {
        "scrolled": true,
        "id": "554f1a91",
        "outputId": "03a6375b-ef9c-4b72-9689-251198a467d0",
        "colab": {
          "base_uri": "https://localhost:8080/",
          "height": 557
        }
      },
      "outputs": [
        {
          "output_type": "display_data",
          "data": {
            "text/plain": [
              "<Figure size 1000x600 with 1 Axes>"
            ],
            "image/png": "[encoded data removed]"
          },
          "metadata": {}
        }
      ],
      "source": [
        "top_20_cars = car.nlargest(20, 'Price')\n",
        "\n",
        "# Plot the top 10 cars with their prices\n",
        "plt.figure(figsize=(10, 6))\n",
        "sns.barplot(x='Car Name', y='Price', data=top_20_cars)\n",
        "# Show the plot\n",
        "plt.show()"
      ]
    },
    {
      "cell_type": "markdown",
      "id": "d5330072",
      "metadata": {
        "id": "d5330072"
      },
      "source": [
        "Brands such as Bugatti, Koenigsegg, and Pagani appear multiple times, highlighting their strong presence in the ultra-luxury car market.\n",
        "\n",
        "This could indicate these brands' success in marketing and selling high-value, exclusive cars."
      ]
    },
    {
      "cell_type": "code",
      "execution_count": 29,
      "id": "de676347",
      "metadata": {
        "id": "de676347",
        "outputId": "fcba5351-5157-4b63-fa96-f2bebeda59dd",
        "colab": {
          "base_uri": "https://localhost:8080/"
        }
      },
      "outputs": [
        {
          "output_type": "stream",
          "name": "stdout",
          "text": [
            "Q1: 70100.0\n",
            "Q3: 225000.0\n",
            "IQR: 154900.0\n"
          ]
        }
      ],
      "source": [
        "# Assuming 'car' is your DataFrame\n",
        "Q1 = car['Price'].quantile(0.25)  # 25th percentile\n",
        "Q3 = car['Price'].quantile(0.75)  # 75th percentile\n",
        "\n",
        "# Calculate IQR\n",
        "IQR = Q3 - Q1\n",
        "\n",
        "print(f'Q1: {Q1}')\n",
        "print(f'Q3: {Q3}')\n",
        "print(f'IQR: {IQR}')"
      ]
    },
    {
      "cell_type": "markdown",
      "id": "852ba5cf",
      "metadata": {
        "id": "852ba5cf"
      },
      "source": [
        "Most car prices are clustered within  $70,100  to  $225,000. Prices outside this range can be considered outliers, indicating either very low or very high-end models."
      ]
    },
    {
      "cell_type": "code",
      "execution_count": 30,
      "id": "eff843f6",
      "metadata": {
        "id": "eff843f6",
        "colab": {
          "base_uri": "https://localhost:8080/"
        },
        "outputId": "0737dc60-1277-4221-acc5-16bd7b14dfa4"
      },
      "outputs": [
        {
          "output_type": "stream",
          "name": "stdout",
          "text": [
            "         Car Name      Car Model  Year     Engine Size Horsepower Torque  \\\n",
            "11        Bugatti         Chiron  2021               8       1500   1180   \n",
            "14     Koenigsegg          Jesko  2021               5       1280   1015   \n",
            "24         Pagani         Huayra  2021               6        720    737   \n",
            "26          Rimac         Nevera  2022        Electric       1914   1696   \n",
            "28    Lamborghini  Aventador SVJ  2021             6.5        759    531   \n",
            "...           ...            ...   ...             ...        ...    ...   \n",
            "988   Pininfarina       Battista  2021        Electric       1872   1696   \n",
            "1002   Koenigsegg          Jesko  2022               5       1280   1106   \n",
            "1003        Lotus          Evija  2021  Electric Motor       1972   1254   \n",
            "1005       Pagani         Huayra  2021               6        764    738   \n",
            "1006        Rimac         Nevera  2021  Electric Motor       1888   1696   \n",
            "\n",
            "       MPH      Price  \n",
            "11     2.4  3000000.0  \n",
            "14     2.5  2800000.0  \n",
            "24     2.8  2800000.0  \n",
            "26    1.85  2400000.0  \n",
            "28     2.8   517770.0  \n",
            "...    ...        ...  \n",
            "988    1.9  2500000.0  \n",
            "1002   2.5  3000000.0  \n",
            "1003     2  2000000.0  \n",
            "1005     3  2600000.0  \n",
            "1006  1.85  2400000.0  \n",
            "\n",
            "[94 rows x 8 columns]\n"
          ]
        }
      ],
      "source": [
        "# Calculate Q1, Q3, and IQR for the 'Price' column\n",
        "Q1 = car['Price'].quantile(0.25)\n",
        "Q3 = car['Price'].quantile(0.75)\n",
        "IQR = Q3 - Q1\n",
        "\n",
        "# Calculate lower and upper bounds\n",
        "lower_bound = Q1 - 1.5 * IQR\n",
        "upper_bound = Q3 + 1.5 * IQR\n",
        "\n",
        "# Filter the data to get outliers\n",
        "outliers = car[(car['Price'] < lower_bound) | (car['Price'] > upper_bound)]\n",
        "print(outliers)\n"
      ]
    },
    {
      "cell_type": "markdown",
      "id": "842a1536",
      "metadata": {
        "id": "842a1536"
      },
      "source": [
        "The output table shows the details of cars identified as outliers, including their names, models, years, engine sizes, horsepower, torque, 0-60 MPH time, and prices. Some examples from the output include:\n",
        "\n",
        "Bugatti Chiron: Priced at $300000\n",
        "\n",
        "Koenigsegg Jesko: Priced at $3200000\n",
        "\n",
        "Pagani Huayra: Priced at $2800000\n",
        "\n",
        "Rimac Nevera: Priced at $2400000\n",
        "\n",
        "Lamborghini Aventador: Priced at $517770"
      ]
    },
    {
      "cell_type": "code",
      "source": [],
      "metadata": {
        "id": "tHRuAyxMZOjY"
      },
      "id": "tHRuAyxMZOjY",
      "execution_count": 30,
      "outputs": []
    }
  ],
  "metadata": {
    "kernelspec": {
      "display_name": "Python 3 (ipykernel)",
      "language": "python",
      "name": "python3"
    },
    "language_info": {
      "codemirror_mode": {
        "name": "ipython",
        "version": 3
      },
      "file_extension": ".py",
      "mimetype": "text/x-python",
      "name": "python",
      "nbconvert_exporter": "python",
      "pygments_lexer": "ipython3",
      "version": "3.9.7"
    },
    "colab": {
      "provenance": [],
      "include_colab_link": true
    }
  },
  "nbformat": 4,
  "nbformat_minor": 5
}