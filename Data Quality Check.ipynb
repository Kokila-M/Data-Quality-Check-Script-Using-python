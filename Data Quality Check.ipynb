{
 "cells": [
  {
   "cell_type": "markdown",
   "id": "181ddbd9",
   "metadata": {},
   "source": [
    "# Importing Libraries"
   ]
  },
  {
   "cell_type": "markdown",
   "id": "3c73eff6",
   "metadata": {},
   "source": [
    "**Pandas** for Data Manipulation\n",
    "**Numpy** for numerical Calculations\n",
    "**Matplotlib**and **seaborn** have been used for Data visualization"
   ]
  },
  {
   "cell_type": "code",
   "execution_count": 830,
   "id": "6b3969f0",
   "metadata": {},
   "outputs": [],
   "source": [
    "import numpy as np\n",
    "import pandas as pd\n",
    "import matplotlib.pyplot as plt\n",
    "import seaborn as sns"
   ]
  },
  {
   "cell_type": "code",
   "execution_count": 831,
   "id": "d637a2f1",
   "metadata": {},
   "outputs": [
    {
     "name": "stdout",
     "output_type": "stream",
     "text": [
      "         Car Make Car Model  Year Engine Size (L) Horsepower Torque (lb-ft)  \\\n",
      "0         Porsche       911  2022               3        379            331   \n",
      "1     Lamborghini   Huracan  2021             5.2        630            443   \n",
      "2         Ferrari   488 GTB  2022             3.9        661            561   \n",
      "3            Audi        R8  2022             5.2        562            406   \n",
      "4         McLaren      720S  2021               4        710            568   \n",
      "...           ...       ...   ...             ...        ...            ...   \n",
      "1002   Koenigsegg     Jesko  2022               5       1280           1106   \n",
      "1003        Lotus     Evija  2021  Electric Motor       1972           1254   \n",
      "1004      McLaren     Senna  2021               4        789            590   \n",
      "1005       Pagani    Huayra  2021               6        764            738   \n",
      "1006        Rimac    Nevera  2021  Electric Motor       1888           1696   \n",
      "\n",
      "     0-60 MPH Time (seconds) Price (in USD)  \n",
      "0                          4        101,200  \n",
      "1                        2.8        274,390  \n",
      "2                          3        333,750  \n",
      "3                        3.2        142,700  \n",
      "4                        2.7        298,000  \n",
      "...                      ...            ...  \n",
      "1002                     2.5      3,000,000  \n",
      "1003                       2      2,000,000  \n",
      "1004                     2.7      1,000,000  \n",
      "1005                       3      2,600,000  \n",
      "1006                    1.85      2,400,000  \n",
      "\n",
      "[1007 rows x 8 columns]\n"
     ]
    }
   ],
   "source": [
    "#Reading Dataset\n",
    "car = pd.read_csv('C:/Users/koki/Downloads/Kok/Sport car price.csv')\n",
    "print(car)"
   ]
  },
  {
   "cell_type": "markdown",
   "id": "32497028",
   "metadata": {},
   "source": [
    "**Shape** will display the number of rows and columns in the dataset"
   ]
  },
  {
   "cell_type": "code",
   "execution_count": 832,
   "id": "74869588",
   "metadata": {},
   "outputs": [
    {
     "data": {
      "text/plain": [
       "(1007, 8)"
      ]
     },
     "execution_count": 832,
     "metadata": {},
     "output_type": "execute_result"
    }
   ],
   "source": [
    "car.shape"
   ]
  },
  {
   "cell_type": "markdown",
   "id": "d0837bed",
   "metadata": {},
   "source": [
    "There are 1007 tuples and 8 attributes in our dataset."
   ]
  },
  {
   "cell_type": "markdown",
   "id": "689a3ee8",
   "metadata": {},
   "source": [
    "**data.info()**  shows the attribute's Datatype, Missing values in attributes"
   ]
  },
  {
   "cell_type": "code",
   "execution_count": 833,
   "id": "dda09f70",
   "metadata": {},
   "outputs": [
    {
     "name": "stdout",
     "output_type": "stream",
     "text": [
      "<class 'pandas.core.frame.DataFrame'>\n",
      "RangeIndex: 1007 entries, 0 to 1006\n",
      "Data columns (total 8 columns):\n",
      " #   Column                   Non-Null Count  Dtype \n",
      "---  ------                   --------------  ----- \n",
      " 0   Car Make                 1007 non-null   object\n",
      " 1   Car Model                1007 non-null   object\n",
      " 2   Year                     1007 non-null   int64 \n",
      " 3   Engine Size (L)          997 non-null    object\n",
      " 4   Horsepower               1007 non-null   object\n",
      " 5   Torque (lb-ft)           1004 non-null   object\n",
      " 6   0-60 MPH Time (seconds)  1007 non-null   object\n",
      " 7   Price (in USD)           1007 non-null   object\n",
      "dtypes: int64(1), object(7)\n",
      "memory usage: 63.1+ KB\n"
     ]
    }
   ],
   "source": [
    "car.info()"
   ]
  },
  {
   "cell_type": "markdown",
   "id": "d47dacfe",
   "metadata": {},
   "source": [
    "1)Numerical Attributes:Year \n",
    "\n",
    "2)Categorical Atrributes: Car Make, Car Model, Engine Size (L), Horsepower, Torque (lb-ft), 0-60 MPH Time (seconds),Price (in USD).\n",
    "\n",
    "3)Engine Size(L), Torque (lb-ft)  attributes have missing value"
   ]
  },
  {
   "cell_type": "markdown",
   "id": "278ec6d9",
   "metadata": {},
   "source": [
    "# Checking for Duplication"
   ]
  },
  {
   "cell_type": "markdown",
   "id": "6828b7ae",
   "metadata": {},
   "source": [
    "**nunique()** returns unique values from each column and  Duplicated data can be handled or removed based on further analysis"
   ]
  },
  {
   "cell_type": "code",
   "execution_count": 834,
   "id": "5d526129",
   "metadata": {},
   "outputs": [
    {
     "data": {
      "text/plain": [
       "Car Make                    38\n",
       "Car Model                  176\n",
       "Year                         9\n",
       "Engine Size (L)             45\n",
       "Horsepower                 124\n",
       "Torque (lb-ft)              93\n",
       "0-60 MPH Time (seconds)     43\n",
       "Price (in USD)             367\n",
       "dtype: int64"
      ]
     },
     "execution_count": 834,
     "metadata": {},
     "output_type": "execute_result"
    }
   ],
   "source": [
    "car.nunique()"
   ]
  },
  {
   "cell_type": "markdown",
   "id": "fc5fa1a9",
   "metadata": {},
   "source": [
    "The dataset contains different unique values for each feature, such as 38 car brands, 176 car models, and 367 different car prices. This shows the variety of data for each attribute like engine size, horsepower, and year."
   ]
  },
  {
   "cell_type": "code",
   "execution_count": 835,
   "id": "781a7c3b",
   "metadata": {},
   "outputs": [
    {
     "name": "stdout",
     "output_type": "stream",
     "text": [
      "0       False\n",
      "1       False\n",
      "2       False\n",
      "3       False\n",
      "4       False\n",
      "        ...  \n",
      "1002    False\n",
      "1003    False\n",
      "1004     True\n",
      "1005    False\n",
      "1006    False\n",
      "Length: 1007, dtype: bool\n"
     ]
    },
    {
     "data": {
      "text/plain": [
       "288"
      ]
     },
     "execution_count": 835,
     "metadata": {},
     "output_type": "execute_result"
    }
   ],
   "source": [
    "Duplicated_value = car.duplicated()\n",
    "print(Duplicated_value)\n",
    "Duplicated_value.sum()"
   ]
  },
  {
   "cell_type": "markdown",
   "id": "b1daa223",
   "metadata": {},
   "source": [
    "This shows that 288 rows in the dataset are duplicates."
   ]
  },
  {
   "cell_type": "markdown",
   "id": "4d29366b",
   "metadata": {},
   "source": [
    "**drop_duplicates()** we can remove duplicate values from dataset"
   ]
  },
  {
   "cell_type": "code",
   "execution_count": 836,
   "id": "a9c59665",
   "metadata": {},
   "outputs": [
    {
     "name": "stdout",
     "output_type": "stream",
     "text": [
      "0       False\n",
      "1       False\n",
      "2       False\n",
      "3       False\n",
      "4       False\n",
      "        ...  \n",
      "999     False\n",
      "1002    False\n",
      "1003    False\n",
      "1005    False\n",
      "1006    False\n",
      "Length: 719, dtype: bool\n"
     ]
    },
    {
     "data": {
      "text/plain": [
       "0"
      ]
     },
     "execution_count": 836,
     "metadata": {},
     "output_type": "execute_result"
    }
   ],
   "source": [
    "car.drop_duplicates(inplace=True)\n",
    "Duplicated_value = car.duplicated()\n",
    "print(Duplicated_value)\n",
    "Duplicated_value.sum()\n"
   ]
  },
  {
   "cell_type": "markdown",
   "id": "e5cd4af8",
   "metadata": {},
   "source": [
    "\n",
    "After removing the duplicates, we cleaned up the dataset by deleting 288 duplicate rows, leaving only unique data."
   ]
  },
  {
   "cell_type": "markdown",
   "id": "2a583541",
   "metadata": {},
   "source": [
    "# Checking for Missing Values"
   ]
  },
  {
   "cell_type": "markdown",
   "id": "69b97a7d",
   "metadata": {},
   "source": [
    "we can check for missing data in a dataset using the **isnull().sum()** method and  check data contain Null values in dataset\n",
    "\n"
   ]
  },
  {
   "cell_type": "code",
   "execution_count": 837,
   "id": "118ea621",
   "metadata": {},
   "outputs": [
    {
     "data": {
      "text/plain": [
       "Car Make                    0\n",
       "Car Model                   0\n",
       "Year                        0\n",
       "Engine Size (L)            10\n",
       "Horsepower                  0\n",
       "Torque (lb-ft)              3\n",
       "0-60 MPH Time (seconds)     0\n",
       "Price (in USD)              0\n",
       "dtype: int64"
      ]
     },
     "execution_count": 837,
     "metadata": {},
     "output_type": "execute_result"
    }
   ],
   "source": [
    "car.isnull().sum()"
   ]
  },
  {
   "cell_type": "markdown",
   "id": "7209d92e",
   "metadata": {},
   "source": [
    " We can see that Engine Size (L) and Torque (lb-ft)   has Missing values "
   ]
  },
  {
   "cell_type": "markdown",
   "id": "543a0c01",
   "metadata": {},
   "source": [
    "#Replace with mode values – We can do this in the case of a Categorical feature."
   ]
  },
  {
   "cell_type": "code",
   "execution_count": 838,
   "id": "1835fe2c",
   "metadata": {},
   "outputs": [
    {
     "name": "stdout",
     "output_type": "stream",
     "text": [
      "0      3\n",
      "1    5.2\n",
      "2    3.9\n",
      "3    5.2\n",
      "4      4\n",
      "Name: Engine Size (L), dtype: object\n"
     ]
    },
    {
     "data": {
      "text/plain": [
       "Car Make                   0\n",
       "Car Model                  0\n",
       "Year                       0\n",
       "Engine Size (L)            0\n",
       "Horsepower                 0\n",
       "Torque (lb-ft)             3\n",
       "0-60 MPH Time (seconds)    0\n",
       "Price (in USD)             0\n",
       "dtype: int64"
      ]
     },
     "execution_count": 838,
     "metadata": {},
     "output_type": "execute_result"
    }
   ],
   "source": [
    "car['Engine Size (L)'].fillna(car['Engine Size (L)'].mode()[0],inplace=True)\n",
    "print(car['Engine Size (L)'].head(5))\n",
    "car.isnull().sum()"
   ]
  },
  {
   "cell_type": "code",
   "execution_count": 839,
   "id": "a888c93c",
   "metadata": {},
   "outputs": [
    {
     "name": "stdout",
     "output_type": "stream",
     "text": [
      "0    331\n",
      "1    443\n",
      "2    561\n",
      "3    406\n",
      "4    568\n",
      "Name: Torque (lb-ft), dtype: object\n"
     ]
    },
    {
     "data": {
      "text/plain": [
       "Car Make                   0\n",
       "Car Model                  0\n",
       "Year                       0\n",
       "Engine Size (L)            0\n",
       "Horsepower                 0\n",
       "Torque (lb-ft)             0\n",
       "0-60 MPH Time (seconds)    0\n",
       "Price (in USD)             0\n",
       "dtype: int64"
      ]
     },
     "execution_count": 839,
     "metadata": {},
     "output_type": "execute_result"
    }
   ],
   "source": [
    "car['Torque (lb-ft)'].fillna(car['Torque (lb-ft)'].mode()[0],inplace=True)\n",
    "print(car['Torque (lb-ft)'].head(5))\n",
    "car.isnull().sum()"
   ]
  },
  {
   "cell_type": "markdown",
   "id": "6a33cef6",
   "metadata": {},
   "source": [
    "**describe()** method shows the basic statistical characteristics of numercial attributes(float63, int64):Mean, Median,Mode, Count, Standard deviation,0.25,0.50,0.75 quartiles."
   ]
  },
  {
   "cell_type": "code",
   "execution_count": 840,
   "id": "d82c4296",
   "metadata": {},
   "outputs": [
    {
     "data": {
      "text/html": [
       "<div>\n",
       "<style scoped>\n",
       "    .dataframe tbody tr th:only-of-type {\n",
       "        vertical-align: middle;\n",
       "    }\n",
       "\n",
       "    .dataframe tbody tr th {\n",
       "        vertical-align: top;\n",
       "    }\n",
       "\n",
       "    .dataframe thead th {\n",
       "        text-align: right;\n",
       "    }\n",
       "</style>\n",
       "<table border=\"1\" class=\"dataframe\">\n",
       "  <thead>\n",
       "    <tr style=\"text-align: right;\">\n",
       "      <th></th>\n",
       "      <th>Year</th>\n",
       "    </tr>\n",
       "  </thead>\n",
       "  <tbody>\n",
       "    <tr>\n",
       "      <th>count</th>\n",
       "      <td>719.000000</td>\n",
       "    </tr>\n",
       "    <tr>\n",
       "      <th>mean</th>\n",
       "      <td>2021.159944</td>\n",
       "    </tr>\n",
       "    <tr>\n",
       "      <th>std</th>\n",
       "      <td>2.329598</td>\n",
       "    </tr>\n",
       "    <tr>\n",
       "      <th>min</th>\n",
       "      <td>1965.000000</td>\n",
       "    </tr>\n",
       "    <tr>\n",
       "      <th>25%</th>\n",
       "      <td>2021.000000</td>\n",
       "    </tr>\n",
       "    <tr>\n",
       "      <th>50%</th>\n",
       "      <td>2021.000000</td>\n",
       "    </tr>\n",
       "    <tr>\n",
       "      <th>75%</th>\n",
       "      <td>2022.000000</td>\n",
       "    </tr>\n",
       "    <tr>\n",
       "      <th>max</th>\n",
       "      <td>2023.000000</td>\n",
       "    </tr>\n",
       "  </tbody>\n",
       "</table>\n",
       "</div>"
      ],
      "text/plain": [
       "              Year\n",
       "count   719.000000\n",
       "mean   2021.159944\n",
       "std       2.329598\n",
       "min    1965.000000\n",
       "25%    2021.000000\n",
       "50%    2021.000000\n",
       "75%    2022.000000\n",
       "max    2023.000000"
      ]
     },
     "execution_count": 840,
     "metadata": {},
     "output_type": "execute_result"
    }
   ],
   "source": [
    "car.describe()"
   ]
  },
  {
   "cell_type": "markdown",
   "id": "ad4ef14c",
   "metadata": {},
   "source": [
    "**Renaming columns** in a dataset is to make their names more meaningful and easier to understand."
   ]
  },
  {
   "cell_type": "code",
   "execution_count": 841,
   "id": "713392c9",
   "metadata": {},
   "outputs": [
    {
     "name": "stdout",
     "output_type": "stream",
     "text": [
      "         Car Name Car Model  Year     Engine Size Horsepower Torque   MPH  \\\n",
      "0         Porsche       911  2022               3        379    331     4   \n",
      "1     Lamborghini   Huracan  2021             5.2        630    443   2.8   \n",
      "2         Ferrari   488 GTB  2022             3.9        661    561     3   \n",
      "3            Audi        R8  2022             5.2        562    406   3.2   \n",
      "4         McLaren      720S  2021               4        710    568   2.7   \n",
      "...           ...       ...   ...             ...        ...    ...   ...   \n",
      "999        Nissan      370Z  2021             3.7        332    270   5.1   \n",
      "1002   Koenigsegg     Jesko  2022               5       1280   1106   2.5   \n",
      "1003        Lotus     Evija  2021  Electric Motor       1972   1254     2   \n",
      "1005       Pagani    Huayra  2021               6        764    738     3   \n",
      "1006        Rimac    Nevera  2021  Electric Motor       1888   1696  1.85   \n",
      "\n",
      "          Price  \n",
      "0       101,200  \n",
      "1       274,390  \n",
      "2       333,750  \n",
      "3       142,700  \n",
      "4       298,000  \n",
      "...         ...  \n",
      "999      30,090  \n",
      "1002  3,000,000  \n",
      "1003  2,000,000  \n",
      "1005  2,600,000  \n",
      "1006  2,400,000  \n",
      "\n",
      "[719 rows x 8 columns]\n"
     ]
    }
   ],
   "source": [
    "# Renaming for columns\n",
    "car = car.rename(columns={'Engine Size (L)': 'Engine Size','Torque (lb-ft)':'Torque','0-60 MPH Time (seconds)':'MPH','Car Make':'Car Name','Price (in USD)': 'Price' })\n",
    "print(car)"
   ]
  },
  {
   "cell_type": "markdown",
   "id": "8d0eb862",
   "metadata": {},
   "source": [
    "The column names were changed as follows: 'Engine Size (L)' to 'Engine Size', 'Torque (lb-ft)' to 'Torque', '0-60 MPH Time (seconds)' to 'MPH', 'Car Make' to 'Car Name', and 'Price (in USD)' to 'Price'."
   ]
  },
  {
   "cell_type": "markdown",
   "id": "7bebd230",
   "metadata": {},
   "source": [
    "Wanted to convert specific columns in our dataset to the nearest integer"
   ]
  },
  {
   "cell_type": "code",
   "execution_count": 842,
   "id": "d81d4d6f",
   "metadata": {},
   "outputs": [
    {
     "name": "stdout",
     "output_type": "stream",
     "text": [
      "         Car Name Car Model  Year     Engine Size Horsepower Torque   MPH  \\\n",
      "0         Porsche       911  2022               3        379    331     4   \n",
      "1     Lamborghini   Huracan  2021             5.2        630    443   2.8   \n",
      "2         Ferrari   488 GTB  2022             3.9        661    561     3   \n",
      "3            Audi        R8  2022             5.2        562    406   3.2   \n",
      "4         McLaren      720S  2021               4        710    568   2.7   \n",
      "...           ...       ...   ...             ...        ...    ...   ...   \n",
      "999        Nissan      370Z  2021             3.7        332    270   5.1   \n",
      "1002   Koenigsegg     Jesko  2022               5       1280   1106   2.5   \n",
      "1003        Lotus     Evija  2021  Electric Motor       1972   1254     2   \n",
      "1005       Pagani    Huayra  2021               6        764    738     3   \n",
      "1006        Rimac    Nevera  2021  Electric Motor       1888   1696  1.85   \n",
      "\n",
      "          Price  \n",
      "0       101,200  \n",
      "1       274,390  \n",
      "2       333,750  \n",
      "3       142,700  \n",
      "4       298,000  \n",
      "...         ...  \n",
      "999      30,090  \n",
      "1002  3,000,000  \n",
      "1003  2,000,000  \n",
      "1005  2,600,000  \n",
      "1006  2,400,000  \n",
      "\n",
      "[719 rows x 8 columns]\n",
      "  Engine Size Horsepower Torque    Price  MPH\n",
      "0           3        379    331  101,200    4\n",
      "1         5.2        630    443  274,390  2.8\n",
      "2         3.9        661    561  333,750    3\n",
      "3         5.2        562    406  142,700  3.2\n",
      "4           4        710    568  298,000  2.7\n"
     ]
    }
   ],
   "source": [
    "car_df= pd.DataFrame(car) \n",
    "columns_to_convert = ['Engine Size', 'Horsepower', 'Torque', 'Price', 'MPH'] \n",
    "#car[columns_to_convert] = car[columns_to_convert].apply(lambda x: x.round().astype(int))\n",
    "print(car_df)\n",
    "print(car[columns_to_convert].head())"
   ]
  },
  {
   "cell_type": "code",
   "execution_count": 843,
   "id": "ff5e8602",
   "metadata": {},
   "outputs": [
    {
     "name": "stdout",
     "output_type": "stream",
     "text": [
      "  Engine Size Horsepower Torque    Price  MPH\n",
      "0           3        379    331  101,200    4\n",
      "1         5.2        630    443  274,390  2.8\n",
      "2         3.9        661    561  333,750    3\n",
      "3         5.2        562    406  142,700  3.2\n",
      "4           4        710    568  298,000  2.7\n"
     ]
    }
   ],
   "source": [
    "#Columns to be converted for nearest int\n",
    "print(car[columns_to_convert].head())"
   ]
  },
  {
   "cell_type": "code",
   "execution_count": 844,
   "id": "8387d64f",
   "metadata": {},
   "outputs": [
    {
     "name": "stdout",
     "output_type": "stream",
     "text": [
      "         Car Name Car Model  Year     Engine Size Horsepower Torque   MPH  \\\n",
      "0         Porsche       911  2022               3        379    331     4   \n",
      "1     Lamborghini   Huracan  2021             5.2        630    443   2.8   \n",
      "2         Ferrari   488 GTB  2022             3.9        661    561     3   \n",
      "3            Audi        R8  2022             5.2        562    406   3.2   \n",
      "4         McLaren      720S  2021               4        710    568   2.7   \n",
      "...           ...       ...   ...             ...        ...    ...   ...   \n",
      "999        Nissan      370Z  2021             3.7        332    270   5.1   \n",
      "1002   Koenigsegg     Jesko  2022               5       1280   1106   2.5   \n",
      "1003        Lotus     Evija  2021  Electric Motor       1972   1254     2   \n",
      "1005       Pagani    Huayra  2021               6        764    738     3   \n",
      "1006        Rimac    Nevera  2021  Electric Motor       1888   1696  1.85   \n",
      "\n",
      "          Price  \n",
      "0       101,200  \n",
      "1       274,390  \n",
      "2       333,750  \n",
      "3       142,700  \n",
      "4       298,000  \n",
      "...         ...  \n",
      "999      30,090  \n",
      "1002  3,000,000  \n",
      "1003  2,000,000  \n",
      "1005  2,600,000  \n",
      "1006  2,400,000  \n",
      "\n",
      "[719 rows x 8 columns]\n"
     ]
    }
   ],
   "source": [
    "#Converting columns to nearest float or int datatype to do further analysis\n",
    "print(car[~car[columns_to_convert].applymap(lambda x: isinstance(x, (int, float))).all(axis=1)])"
   ]
  },
  {
   "cell_type": "code",
   "execution_count": 845,
   "id": "c8ed76f5",
   "metadata": {},
   "outputs": [
    {
     "name": "stdout",
     "output_type": "stream",
     "text": [
      "         Car Name Car Model  Year     Engine Size Horsepower Torque   MPH  \\\n",
      "0         Porsche       911  2022               3        379    331     4   \n",
      "1     Lamborghini   Huracan  2021             5.2        630    443   2.8   \n",
      "2         Ferrari   488 GTB  2022             3.9        661    561     3   \n",
      "3            Audi        R8  2022             5.2        562    406   3.2   \n",
      "4         McLaren      720S  2021               4        710    568   2.7   \n",
      "...           ...       ...   ...             ...        ...    ...   ...   \n",
      "999        Nissan      370Z  2021             3.7        332    270   5.1   \n",
      "1002   Koenigsegg     Jesko  2022               5       1280   1106   2.5   \n",
      "1003        Lotus     Evija  2021  Electric Motor       1972   1254     2   \n",
      "1005       Pagani    Huayra  2021               6        764    738     3   \n",
      "1006        Rimac    Nevera  2021  Electric Motor       1888   1696  1.85   \n",
      "\n",
      "          Price  \n",
      "0       101,200  \n",
      "1       274,390  \n",
      "2       333,750  \n",
      "3       142,700  \n",
      "4       298,000  \n",
      "...         ...  \n",
      "999      30,090  \n",
      "1002  3,000,000  \n",
      "1003  2,000,000  \n",
      "1005  2,600,000  \n",
      "1006  2,400,000  \n",
      "\n",
      "[719 rows x 8 columns]\n"
     ]
    }
   ],
   "source": [
    "print(car[~car[columns_to_convert].applymap(lambda x: isinstance(x, (int, float))).all(axis=1)])"
   ]
  },
  {
   "cell_type": "code",
   "execution_count": 846,
   "id": "be164e23",
   "metadata": {},
   "outputs": [
    {
     "name": "stdout",
     "output_type": "stream",
     "text": [
      "Index(['Car Name', 'Car Model', 'Year', 'Engine Size', 'Horsepower', 'Torque',\n",
      "       'MPH', 'Price'],\n",
      "      dtype='object')\n"
     ]
    }
   ],
   "source": [
    "#Attributes in our dataset\n",
    "print(car.columns)\n"
   ]
  },
  {
   "cell_type": "code",
   "execution_count": 847,
   "id": "c2b0b59f",
   "metadata": {
    "scrolled": false
   },
   "outputs": [
    {
     "name": "stdout",
     "output_type": "stream",
     "text": [
      "0    101200.0\n",
      "1    274390.0\n",
      "2    333750.0\n",
      "3    142700.0\n",
      "4    298000.0\n",
      "Name: Price, dtype: float64\n"
     ]
    }
   ],
   "source": [
    "# Remove commas from the 'Price' column and convert to integers\n",
    "car['Price'] = car['Price'].str.replace(',', '').astype(float)\n",
    "print(car['Price'].head())\n"
   ]
  },
  {
   "cell_type": "code",
   "execution_count": 848,
   "id": "24a613fe",
   "metadata": {},
   "outputs": [
    {
     "name": "stdout",
     "output_type": "stream",
     "text": [
      "      Car Name Car Model  Year Engine Size Horsepower Torque  MPH     Price\n",
      "0      Porsche       911  2022           3        379    331    4  101200.0\n",
      "1  Lamborghini   Huracan  2021         5.2        630    443  2.8  274390.0\n",
      "2      Ferrari   488 GTB  2022         3.9        661    561    3  333750.0\n",
      "3         Audi        R8  2022         5.2        562    406  3.2  142700.0\n",
      "4      McLaren      720S  2021           4        710    568  2.7  298000.0\n"
     ]
    }
   ],
   "source": [
    "print(car.head())  # Print the first few rows to inspect the data\n"
   ]
  },
  {
   "cell_type": "code",
   "execution_count": 849,
   "id": "40de6fe4",
   "metadata": {},
   "outputs": [
    {
     "data": {
      "image/png": "[encoded data removed]",
      "text/plain": [
       "<Figure size 864x432 with 1 Axes>"
      ]
     },
     "metadata": {
      "needs_background": "light"
     },
     "output_type": "display_data"
    }
   ],
   "source": [
    "top_5_torque = car['Torque'].value_counts().head(5).index\n",
    "\n",
    "# Filter the dataset for top 5 Torque values\n",
    "filtered_car = car[car['Torque'].isin(top_5_torque)]\n",
    "\n",
    "# Plot\n",
    "plt.figure(figsize=(12, 6))\n",
    "sns.countplot(data=filtered_car, x='Torque', order=top_5_torque)\n",
    "\n",
    "# Add labels and title with custom font sizes\n",
    "plt.title('Top 5 Torque Counts', fontsize=16)\n",
    "plt.xlabel('Torque', fontsize=14)\n",
    "plt.ylabel('Count', fontsize=14)\n",
    "\n",
    "# Adjust x-axis label rotation for better readability (if needed)\n",
    "plt.xticks(rotation=45, fontsize=12)\n",
    "plt.yticks(fontsize=12)\n",
    "\n",
    "plt.show()"
   ]
  },
  {
   "cell_type": "markdown",
   "id": "86ded4d9",
   "metadata": {},
   "source": [
    "The top cars generally have high torque values, often exceeding 600 Nm (approximately 443 lb-ft). This indicates powerful performance and quick acceleration."
   ]
  },
  {
   "cell_type": "code",
   "execution_count": 850,
   "id": "83f02921",
   "metadata": {},
   "outputs": [
    {
     "data": {
      "image/png": "[encoded data removed]",
      "text/plain": [
       "<Figure size 432x288 with 1 Axes>"
      ]
     },
     "metadata": {
      "needs_background": "light"
     },
     "output_type": "display_data"
    }
   ],
   "source": [
    "car.boxplot(column=['Year'])\n",
    "plt.show()\n"
   ]
  },
  {
   "cell_type": "markdown",
   "id": "83f7a6e6",
   "metadata": {},
   "source": [
    " We can observe from the below of the boxplot that has one outlier its **Shelby Car Cobra model** from the year of  1965 "
   ]
  },
  {
   "cell_type": "code",
   "execution_count": 851,
   "id": "f520a348",
   "metadata": {},
   "outputs": [
    {
     "name": "stdout",
     "output_type": "stream",
     "text": [
      "          Car Name             Car Model  Year Engine Size Horsepower Torque  \\\n",
      "33   Mercedes-Benz               SLS AMG  2015         6.2        622    468   \n",
      "43   Mercedes-Benz             CLS63 AMG  2019           4        603    627   \n",
      "94   Mercedes-Benz               SLS AMG  2015         6.2        622    468   \n",
      "159          Dodge                 Viper  2017         8.4        645    600   \n",
      "170         Shelby                 Cobra  1965           7        435    440   \n",
      "174       W Motors      Lykan Hypersport  2015         3.7        780    708   \n",
      "181  Mercedes-Benz               SLS AMG  2015         6.2        622    468   \n",
      "273  Mercedes-Benz  SLS AMG Black Series  2014         6.2        622    468   \n",
      "369          Dodge                 Viper  2017         8.4        645    600   \n",
      "405          Dodge             Viper ACR  2017         8.4        645    600   \n",
      "464  Mercedes-Benz               SLS AMG  2015         6.2        622    468   \n",
      "473       Maserati           GranTurismo  2019         4.7        454    384   \n",
      "587  Mercedes-Benz               SLS AMG  2015         6.2        583    479   \n",
      "614  Mercedes-Benz               SLS AMG  2015         6.2        622    468   \n",
      "625        McLaren                 Senna  2019           4        789    590   \n",
      "688        Porsche            918 Spyder  2015         4.6        887    944   \n",
      "739  Mercedes-Benz               SLS AMG  2015         6.2        622    468   \n",
      "776  Mercedes-Benz               SLS AMG  2015         6.2        622    468   \n",
      "\n",
      "     MPH      Price  \n",
      "33   3.2   222000.0  \n",
      "43   3.4   132000.0  \n",
      "94   3.7   221580.0  \n",
      "159  3.3   120000.0  \n",
      "170  4.2  1000000.0  \n",
      "174  2.8  3400000.0  \n",
      "181  3.6   228000.0  \n",
      "273  3.5   275000.0  \n",
      "369  3.3   118795.0  \n",
      "405  3.3   126190.0  \n",
      "464  3.6   229000.0  \n",
      "473  4.7   150980.0  \n",
      "587  3.6   221580.0  \n",
      "614  3.5   228000.0  \n",
      "625  2.7  1050000.0  \n",
      "688  2.2  1800000.0  \n",
      "739  3.5   222500.0  \n",
      "776  3.6   200000.0  \n"
     ]
    }
   ],
   "source": [
    "outliers = car[car['Year'] < car['Year'].quantile(0.25) - 1.5 * (car['Year'].quantile(0.75) - car['Year'].quantile(0.25))]\n",
    "print(outliers)\n",
    "\n"
   ]
  },
  {
   "cell_type": "code",
   "execution_count": 868,
   "id": "3613e7df",
   "metadata": {},
   "outputs": [
    {
     "name": "stdout",
     "output_type": "stream",
     "text": [
      "    Car Name Car Model  Year Engine Size Horsepower Torque  MPH      Price\n",
      "170   Shelby     Cobra  1965           7        435    440  4.2  1000000.0\n"
     ]
    }
   ],
   "source": [
    "car_dk= car[car['Year'] <= 1970]  \n",
    "print(car_dk)"
   ]
  },
  {
   "cell_type": "code",
   "execution_count": 854,
   "id": "ad0ebd8a",
   "metadata": {},
   "outputs": [
    {
     "name": "stdout",
     "output_type": "stream",
     "text": [
      "         Car Name      Car Model  Year     Engine Size Horsepower Torque  \\\n",
      "11        Bugatti         Chiron  2021               8       1500   1180   \n",
      "14     Koenigsegg          Jesko  2021               5       1280   1015   \n",
      "24         Pagani         Huayra  2021               6        720    737   \n",
      "26          Rimac         Nevera  2022        Electric       1914   1696   \n",
      "28    Lamborghini  Aventador SVJ  2021             6.5        759    531   \n",
      "...           ...            ...   ...             ...        ...    ...   \n",
      "988   Pininfarina       Battista  2021        Electric       1872   1696   \n",
      "1002   Koenigsegg          Jesko  2022               5       1280   1106   \n",
      "1003        Lotus          Evija  2021  Electric Motor       1972   1254   \n",
      "1005       Pagani         Huayra  2021               6        764    738   \n",
      "1006        Rimac         Nevera  2021  Electric Motor       1888   1696   \n",
      "\n",
      "       MPH      Price  \n",
      "11     2.4  3000000.0  \n",
      "14     2.5  2800000.0  \n",
      "24     2.8  2800000.0  \n",
      "26    1.85  2400000.0  \n",
      "28     2.8   517770.0  \n",
      "...    ...        ...  \n",
      "988    1.9  2500000.0  \n",
      "1002   2.5  3000000.0  \n",
      "1003     2  2000000.0  \n",
      "1005     3  2600000.0  \n",
      "1006  1.85  2400000.0  \n",
      "\n",
      "[94 rows x 8 columns]\n"
     ]
    }
   ],
   "source": [
    "outliers = car[car['Price'] > car['Price'].quantile(0.75) + 1.5 * (car['Price'].quantile(0.75) - car['Price'].quantile(0.25))]\n",
    "print(outliers)\n"
   ]
  },
  {
   "cell_type": "code",
   "execution_count": 856,
   "id": "f04e9c2f",
   "metadata": {},
   "outputs": [
    {
     "name": "stdout",
     "output_type": "stream",
     "text": [
      "         Car Name Car Model  Year     Engine Size Horsepower Torque   MPH  \\\n",
      "0         Porsche       911  2022               3        379    331     4   \n",
      "1     Lamborghini   Huracan  2021             5.2        630    443   2.8   \n",
      "2         Ferrari   488 GTB  2022             3.9        661    561     3   \n",
      "3            Audi        R8  2022             5.2        562    406   3.2   \n",
      "4         McLaren      720S  2021               4        710    568   2.7   \n",
      "...           ...       ...   ...             ...        ...    ...   ...   \n",
      "998          Ford   Mustang  2021             2.3        310    350   5.3   \n",
      "999        Nissan      370Z  2021             3.7        332    270   5.1   \n",
      "1003        Lotus     Evija  2021  Electric Motor       1972   1254     2   \n",
      "1005       Pagani    Huayra  2021               6        764    738     3   \n",
      "1006        Rimac    Nevera  2021  Electric Motor       1888   1696  1.85   \n",
      "\n",
      "          Price  \n",
      "0      101200.0  \n",
      "1      274390.0  \n",
      "2      333750.0  \n",
      "3      142700.0  \n",
      "4      298000.0  \n",
      "...         ...  \n",
      "998     27205.0  \n",
      "999     30090.0  \n",
      "1003  2000000.0  \n",
      "1005  2600000.0  \n",
      "1006  2400000.0  \n",
      "\n",
      "[698 rows x 8 columns]\n"
     ]
    }
   ],
   "source": [
    "car_df= car[car['Price'] <  3000000.0 ]  # Define an appropriate upper limit\n",
    "print(car_df)"
   ]
  },
  {
   "cell_type": "code",
   "execution_count": 858,
   "id": "b0a32915",
   "metadata": {
    "scrolled": true
   },
   "outputs": [
    {
     "data": {
      "image/png": "[encoded data removed]",
      "text/plain": [
       "<Figure size 720x432 with 1 Axes>"
      ]
     },
     "metadata": {
      "needs_background": "light"
     },
     "output_type": "display_data"
    }
   ],
   "source": [
    "plt.figure(figsize=(10, 6))\n",
    "sns.boxplot(data=car, x='Year', y='Price')\n",
    "\n",
    "plt.title('Car Prices by Year', fontsize=14)\n",
    "plt.xlabel('Year', fontsize=12)\n",
    "plt.ylabel('Price', fontsize=12)\n",
    "\n",
    "plt.xticks(rotation=45)  \n",
    "plt.show()"
   ]
  },
  {
   "cell_type": "markdown",
   "id": "425c8817",
   "metadata": {},
   "source": [
    "1)Almost every year has multiple outliers, representing cars priced much higher than the general distribution for that year. These could be luxury or special edition cars.\n",
    "\n",
    "2)The dataset might include a mix of regular and premium cars for all years, leading to the observed outliers.\n",
    "\n",
    "3)Most boxes are concentrated near the bottom, indicating lower-priced cars are more common."
   ]
  },
  {
   "cell_type": "code",
   "execution_count": 867,
   "id": "554f1a91",
   "metadata": {
    "scrolled": true
   },
   "outputs": [
    {
     "data": {
      "image/png": "[encoded data removed]",
      "text/plain": [
       "<Figure size 720x432 with 1 Axes>"
      ]
     },
     "metadata": {
      "needs_background": "light"
     },
     "output_type": "display_data"
    }
   ],
   "source": [
    "top_20_cars = car.nlargest(20, 'Price')\n",
    "\n",
    "# Plot the top 10 cars with their prices\n",
    "plt.figure(figsize=(10, 6))\n",
    "sns.barplot(x='Car Name', y='Price', data=top_20_cars)\n",
    "# Show the plot\n",
    "plt.show()"
   ]
  },
  {
   "cell_type": "markdown",
   "id": "d5330072",
   "metadata": {},
   "source": [
    "Brands such as Bugatti, Koenigsegg, and Pagani appear multiple times, highlighting their strong presence in the ultra-luxury car market.\n",
    "\n",
    "This could indicate these brands' success in marketing and selling high-value, exclusive cars."
   ]
  },
  {
   "cell_type": "code",
   "execution_count": 860,
   "id": "de676347",
   "metadata": {},
   "outputs": [
    {
     "name": "stdout",
     "output_type": "stream",
     "text": [
      "Q1: 70100.0\n",
      "Q3: 225000.0\n",
      "IQR: 154900.0\n"
     ]
    }
   ],
   "source": [
    "# Assuming 'car' is your DataFrame\n",
    "Q1 = car['Price'].quantile(0.25)  # 25th percentile\n",
    "Q3 = car['Price'].quantile(0.75)  # 75th percentile\n",
    "\n",
    "# Calculate IQR\n",
    "IQR = Q3 - Q1\n",
    "\n",
    "print(f'Q1: {Q1}')\n",
    "print(f'Q3: {Q3}')\n",
    "print(f'IQR: {IQR}')"
   ]
  },
  {
   "cell_type": "markdown",
   "id": "852ba5cf",
   "metadata": {},
   "source": [
    "Most car prices are clustered within  $70,100  to  $225,000. Prices outside this range can be considered outliers, indicating either very low or very high-end models."
   ]
  },
  {
   "cell_type": "code",
   "execution_count": null,
   "id": "eff843f6",
   "metadata": {},
   "outputs": [],
   "source": [
    "# Calculate Q1, Q3, and IQR for the 'Price' column\n",
    "Q1 = car['Price'].quantile(0.25)\n",
    "Q3 = car['Price'].quantile(0.75)\n",
    "IQR = Q3 - Q1\n",
    "\n",
    "# Calculate lower and upper bounds\n",
    "lower_bound = Q1 - 1.5 * IQR\n",
    "upper_bound = Q3 + 1.5 * IQR\n",
    "\n",
    "# Filter the data to get outliers\n",
    "outliers = car[(car['Price'] < lower_bound) | (car['Price'] > upper_bound)]\n",
    "print(outliers)\n"
   ]
  },
  {
   "cell_type": "markdown",
   "id": "842a1536",
   "metadata": {},
   "source": [
    "The output table shows the details of cars identified as outliers, including their names, models, years, engine sizes, horsepower, torque, 0-60 MPH time, and prices. Some examples from the output include:\n",
    "\n",
    "Bugatti Chiron: Priced at $300000\n",
    "\n",
    "Koenigsegg Jesko: Priced at $3200000\n",
    "\n",
    "Pagani Huayra: Priced at $2800000\n",
    "\n",
    "Rimac Nevera: Priced at $2400000\n",
    "\n",
    "Lamborghini Aventador: Priced at $517770"
   ]
  }
 ],
 "metadata": {
  "kernelspec": {
   "display_name": "Python 3 (ipykernel)",
   "language": "python",
   "name": "python3"
  },
  "language_info": {
   "codemirror_mode": {
    "name": "ipython",
    "version": 3
   },
   "file_extension": ".py",
   "mimetype": "text/x-python",
   "name": "python",
   "nbconvert_exporter": "python",
   "pygments_lexer": "ipython3",
   "version": "3.9.7"
  }
 },
 "nbformat": 4,
 "nbformat_minor": 5
}
